{
 "cells": [
  {
   "cell_type": "code",
   "execution_count": 1,
   "metadata": {
    "execution": {
     "iopub.execute_input": "2024-12-07T23:18:29.126408Z",
     "iopub.status.busy": "2024-12-07T23:18:29.125952Z",
     "iopub.status.idle": "2024-12-07T23:18:29.153708Z",
     "shell.execute_reply": "2024-12-07T23:18:29.151600Z",
     "shell.execute_reply.started": "2024-12-07T23:18:29.126367Z"
    },
    "trusted": true
   },
   "outputs": [],
   "source": [
    "# pip install --upgrade kaggle-environments"
   ]
  },
  {
   "cell_type": "code",
   "execution_count": 2,
   "metadata": {
    "execution": {
     "iopub.execute_input": "2024-12-07T23:18:29.156587Z",
     "iopub.status.busy": "2024-12-07T23:18:29.156170Z",
     "iopub.status.idle": "2024-12-07T23:19:08.979282Z",
     "shell.execute_reply": "2024-12-07T23:19:08.977806Z",
     "shell.execute_reply.started": "2024-12-07T23:18:29.156546Z"
    },
    "trusted": true
   },
   "outputs": [
    {
     "name": "stdout",
     "output_type": "stream",
     "text": [
      "Collecting gymnasium==0.29.1\n",
      "  Downloading gymnasium-0.29.1-py3-none-any.whl.metadata (10 kB)\n",
      "Requirement already satisfied: numpy>=1.21.0 in /opt/conda/lib/python3.10/site-packages (from gymnasium==0.29.1) (1.26.4)\n",
      "Requirement already satisfied: cloudpickle>=1.2.0 in /opt/conda/lib/python3.10/site-packages (from gymnasium==0.29.1) (3.1.0)\n",
      "Requirement already satisfied: typing-extensions>=4.3.0 in /opt/conda/lib/python3.10/site-packages (from gymnasium==0.29.1) (4.12.2)\n",
      "Requirement already satisfied: farama-notifications>=0.0.1 in /opt/conda/lib/python3.10/site-packages (from gymnasium==0.29.1) (0.0.4)\n",
      "Downloading gymnasium-0.29.1-py3-none-any.whl (953 kB)\n",
      "\u001b[2K   \u001b[90m━━━━━━━━━━━━━━━━━━━━━━━━━━━━━━━━━━━━━━━━\u001b[0m \u001b[32m953.9/953.9 kB\u001b[0m \u001b[31m12.4 MB/s\u001b[0m eta \u001b[36m0:00:00\u001b[0m00:01\u001b[0m0:01\u001b[0m\n",
      "\u001b[?25hInstalling collected packages: gymnasium\n",
      "  Attempting uninstall: gymnasium\n",
      "    Found existing installation: gymnasium 0.29.0\n",
      "    Uninstalling gymnasium-0.29.0:\n",
      "      Successfully uninstalled gymnasium-0.29.0\n",
      "\u001b[31mERROR: pip's dependency resolver does not currently take into account all the packages that are installed. This behaviour is the source of the following dependency conflicts.\n",
      "kaggle-environments 1.16.9 requires gymnasium==0.29.0, but you have gymnasium 0.29.1 which is incompatible.\u001b[0m\u001b[31m\n",
      "\u001b[0mSuccessfully installed gymnasium-0.29.1\n",
      "Collecting ale_py\n",
      "  Downloading ale_py-0.10.1-cp310-cp310-manylinux_2_17_x86_64.manylinux2014_x86_64.whl.metadata (7.6 kB)\n",
      "Requirement already satisfied: numpy>1.20 in /opt/conda/lib/python3.10/site-packages (from ale_py) (1.26.4)\n",
      "Requirement already satisfied: typing-extensions in /opt/conda/lib/python3.10/site-packages (from ale_py) (4.12.2)\n",
      "Downloading ale_py-0.10.1-cp310-cp310-manylinux_2_17_x86_64.manylinux2014_x86_64.whl (2.1 MB)\n",
      "\u001b[2K   \u001b[90m━━━━━━━━━━━━━━━━━━━━━━━━━━━━━━━━━━━━━━━━\u001b[0m \u001b[32m2.1/2.1 MB\u001b[0m \u001b[31m20.5 MB/s\u001b[0m eta \u001b[36m0:00:00\u001b[0m00:01\u001b[0m0:01\u001b[0m\n",
      "\u001b[?25hInstalling collected packages: ale_py\n",
      "Successfully installed ale_py-0.10.1\n",
      "Requirement already satisfied: stable-baselines3 in /opt/conda/lib/python3.10/site-packages (2.1.0)\n",
      "Requirement already satisfied: gymnasium<0.30,>=0.28.1 in /opt/conda/lib/python3.10/site-packages (from stable-baselines3) (0.29.1)\n",
      "Requirement already satisfied: numpy>=1.20 in /opt/conda/lib/python3.10/site-packages (from stable-baselines3) (1.26.4)\n",
      "Requirement already satisfied: torch>=1.13 in /opt/conda/lib/python3.10/site-packages (from stable-baselines3) (2.4.0+cpu)\n",
      "Requirement already satisfied: cloudpickle in /opt/conda/lib/python3.10/site-packages (from stable-baselines3) (3.1.0)\n",
      "Requirement already satisfied: pandas in /opt/conda/lib/python3.10/site-packages (from stable-baselines3) (2.2.3)\n",
      "Requirement already satisfied: matplotlib in /opt/conda/lib/python3.10/site-packages (from stable-baselines3) (3.7.5)\n",
      "Requirement already satisfied: typing-extensions>=4.3.0 in /opt/conda/lib/python3.10/site-packages (from gymnasium<0.30,>=0.28.1->stable-baselines3) (4.12.2)\n",
      "Requirement already satisfied: farama-notifications>=0.0.1 in /opt/conda/lib/python3.10/site-packages (from gymnasium<0.30,>=0.28.1->stable-baselines3) (0.0.4)\n",
      "Requirement already satisfied: filelock in /opt/conda/lib/python3.10/site-packages (from torch>=1.13->stable-baselines3) (3.15.1)\n",
      "Requirement already satisfied: sympy in /opt/conda/lib/python3.10/site-packages (from torch>=1.13->stable-baselines3) (1.13.1)\n",
      "Requirement already satisfied: networkx in /opt/conda/lib/python3.10/site-packages (from torch>=1.13->stable-baselines3) (3.3)\n",
      "Requirement already satisfied: jinja2 in /opt/conda/lib/python3.10/site-packages (from torch>=1.13->stable-baselines3) (3.1.4)\n",
      "Requirement already satisfied: fsspec in /opt/conda/lib/python3.10/site-packages (from torch>=1.13->stable-baselines3) (2024.9.0)\n",
      "Requirement already satisfied: contourpy>=1.0.1 in /opt/conda/lib/python3.10/site-packages (from matplotlib->stable-baselines3) (1.2.1)\n",
      "Requirement already satisfied: cycler>=0.10 in /opt/conda/lib/python3.10/site-packages (from matplotlib->stable-baselines3) (0.12.1)\n",
      "Requirement already satisfied: fonttools>=4.22.0 in /opt/conda/lib/python3.10/site-packages (from matplotlib->stable-baselines3) (4.53.0)\n",
      "Requirement already satisfied: kiwisolver>=1.0.1 in /opt/conda/lib/python3.10/site-packages (from matplotlib->stable-baselines3) (1.4.5)\n",
      "Requirement already satisfied: packaging>=20.0 in /opt/conda/lib/python3.10/site-packages (from matplotlib->stable-baselines3) (21.3)\n",
      "Requirement already satisfied: pillow>=6.2.0 in /opt/conda/lib/python3.10/site-packages (from matplotlib->stable-baselines3) (10.3.0)\n",
      "Requirement already satisfied: pyparsing>=2.3.1 in /opt/conda/lib/python3.10/site-packages (from matplotlib->stable-baselines3) (3.1.2)\n",
      "Requirement already satisfied: python-dateutil>=2.7 in /opt/conda/lib/python3.10/site-packages (from matplotlib->stable-baselines3) (2.9.0.post0)\n",
      "Requirement already satisfied: pytz>=2020.1 in /opt/conda/lib/python3.10/site-packages (from pandas->stable-baselines3) (2024.1)\n",
      "Requirement already satisfied: tzdata>=2022.7 in /opt/conda/lib/python3.10/site-packages (from pandas->stable-baselines3) (2024.1)\n",
      "Requirement already satisfied: six>=1.5 in /opt/conda/lib/python3.10/site-packages (from python-dateutil>=2.7->matplotlib->stable-baselines3) (1.16.0)\n",
      "Requirement already satisfied: MarkupSafe>=2.0 in /opt/conda/lib/python3.10/site-packages (from jinja2->torch>=1.13->stable-baselines3) (2.1.5)\n",
      "Requirement already satisfied: mpmath<1.4,>=1.1.0 in /opt/conda/lib/python3.10/site-packages (from sympy->torch>=1.13->stable-baselines3) (1.3.0)\n"
     ]
    }
   ],
   "source": [
    "# # imports\n",
    "# !pip install stable-baselines3 pyglet imageio-ffmpeg gymnasium[atari,accept-rom-license] ale-py > /dev/null 2>&1\n",
    "# !pip install gymnasium==1.0.0\n",
    "!pip install gymnasium==0.29.1\n",
    "!pip install ale_py\n",
    "!pip install stable-baselines3\n",
    "# !pip install stable-baselines3[extra]\n",
    "# pip install sb3-contrib"
   ]
  },
  {
   "cell_type": "code",
   "execution_count": 3,
   "metadata": {
    "execution": {
     "iopub.execute_input": "2024-12-07T23:19:08.981731Z",
     "iopub.status.busy": "2024-12-07T23:19:08.981216Z",
     "iopub.status.idle": "2024-12-07T23:19:08.990214Z",
     "shell.execute_reply": "2024-12-07T23:19:08.988994Z",
     "shell.execute_reply.started": "2024-12-07T23:19:08.981668Z"
    },
    "id": "Nv2c8G-fJni_",
    "trusted": true
   },
   "outputs": [],
   "source": [
    "import warnings\n",
    "warnings.filterwarnings('ignore')"
   ]
  },
  {
   "cell_type": "code",
   "execution_count": 4,
   "metadata": {
    "execution": {
     "iopub.execute_input": "2024-12-07T23:19:08.993848Z",
     "iopub.status.busy": "2024-12-07T23:19:08.993375Z",
     "iopub.status.idle": "2024-12-07T23:19:09.922797Z",
     "shell.execute_reply": "2024-12-07T23:19:09.921300Z",
     "shell.execute_reply.started": "2024-12-07T23:19:08.993809Z"
    },
    "id": "vvF3dyK5JnjA",
    "trusted": true
   },
   "outputs": [],
   "source": [
    "import ale_py"
   ]
  },
  {
   "cell_type": "code",
   "execution_count": 5,
   "metadata": {
    "execution": {
     "iopub.execute_input": "2024-12-07T23:19:09.925828Z",
     "iopub.status.busy": "2024-12-07T23:19:09.924821Z",
     "iopub.status.idle": "2024-12-07T23:19:33.712356Z",
     "shell.execute_reply": "2024-12-07T23:19:33.711045Z",
     "shell.execute_reply.started": "2024-12-07T23:19:09.925733Z"
    },
    "id": "p--B9ZV5JnjA",
    "trusted": true
   },
   "outputs": [],
   "source": [
    "import gymnasium as gym\n",
    "from stable_baselines3 import DQN\n",
    "from stable_baselines3.common.vec_env import DummyVecEnv, VecFrameStack, VecTransposeImage\n",
    "from stable_baselines3.common.atari_wrappers import MaxAndSkipEnv\n",
    "import torch\n",
    "import numpy as np\n",
    "import wandb\n",
    "from wandb.integration.sb3 import WandbCallback\n",
    "\n",
    "from gymnasium.wrappers import ResizeObservation"
   ]
  },
  {
   "cell_type": "code",
   "execution_count": 6,
   "metadata": {
    "execution": {
     "iopub.execute_input": "2024-12-07T23:19:33.714670Z",
     "iopub.status.busy": "2024-12-07T23:19:33.714132Z",
     "iopub.status.idle": "2024-12-07T23:19:33.724680Z",
     "shell.execute_reply": "2024-12-07T23:19:33.723028Z",
     "shell.execute_reply.started": "2024-12-07T23:19:33.714614Z"
    },
    "trusted": true
   },
   "outputs": [
    {
     "name": "stdout",
     "output_type": "stream",
     "text": [
      "0.29.1\n"
     ]
    }
   ],
   "source": [
    "print(gym.__version__)"
   ]
  },
  {
   "cell_type": "code",
   "execution_count": 7,
   "metadata": {
    "execution": {
     "iopub.execute_input": "2024-12-07T23:19:33.726558Z",
     "iopub.status.busy": "2024-12-07T23:19:33.726036Z",
     "iopub.status.idle": "2024-12-07T23:19:33.750438Z",
     "shell.execute_reply": "2024-12-07T23:19:33.748864Z",
     "shell.execute_reply.started": "2024-12-07T23:19:33.726489Z"
    },
    "executionInfo": {
     "elapsed": 27,
     "status": "ok",
     "timestamp": 1733279365196,
     "user": {
      "displayName": "Amrit cheema",
      "userId": "09351746591115935562"
     },
     "user_tz": -60
    },
    "id": "GOiINwN2f1aQ",
    "outputId": "8bfe846d-efaa-4cd7-8933-99a323884c98",
    "trusted": true
   },
   "outputs": [],
   "source": [
    "from stable_baselines3.common.monitor import Monitor"
   ]
  },
  {
   "cell_type": "code",
   "execution_count": 8,
   "metadata": {
    "execution": {
     "iopub.execute_input": "2024-12-07T23:19:33.753012Z",
     "iopub.status.busy": "2024-12-07T23:19:33.752412Z",
     "iopub.status.idle": "2024-12-07T23:19:33.768255Z",
     "shell.execute_reply": "2024-12-07T23:19:33.766036Z",
     "shell.execute_reply.started": "2024-12-07T23:19:33.752932Z"
    },
    "id": "Uujp09wlJnjB",
    "trusted": true
   },
   "outputs": [],
   "source": [
    "import matplotlib.pyplot as plt"
   ]
  },
  {
   "cell_type": "code",
   "execution_count": 9,
   "metadata": {
    "execution": {
     "iopub.execute_input": "2024-12-07T23:19:33.770594Z",
     "iopub.status.busy": "2024-12-07T23:19:33.770060Z",
     "iopub.status.idle": "2024-12-07T23:19:33.785103Z",
     "shell.execute_reply": "2024-12-07T23:19:33.783271Z",
     "shell.execute_reply.started": "2024-12-07T23:19:33.770541Z"
    },
    "id": "wu-A96lcJnjB",
    "trusted": true
   },
   "outputs": [],
   "source": [
    "import os"
   ]
  },
  {
   "cell_type": "code",
   "execution_count": 10,
   "metadata": {
    "execution": {
     "iopub.execute_input": "2024-12-07T23:19:33.791385Z",
     "iopub.status.busy": "2024-12-07T23:19:33.790847Z",
     "iopub.status.idle": "2024-12-07T23:19:33.805291Z",
     "shell.execute_reply": "2024-12-07T23:19:33.803310Z",
     "shell.execute_reply.started": "2024-12-07T23:19:33.791336Z"
    },
    "id": "WJUt4ja8JnjB",
    "trusted": true
   },
   "outputs": [],
   "source": [
    "from stable_baselines3 import DQN\n",
    "from stable_baselines3.common.callbacks import CheckpointCallback"
   ]
  },
  {
   "cell_type": "code",
   "execution_count": 11,
   "metadata": {
    "execution": {
     "iopub.execute_input": "2024-12-07T23:19:33.807686Z",
     "iopub.status.busy": "2024-12-07T23:19:33.807152Z",
     "iopub.status.idle": "2024-12-07T23:19:33.822048Z",
     "shell.execute_reply": "2024-12-07T23:19:33.820403Z",
     "shell.execute_reply.started": "2024-12-07T23:19:33.807623Z"
    },
    "id": "3qpLc3uJJnjB",
    "trusted": true
   },
   "outputs": [],
   "source": [
    "gym.register_envs(ale_py)"
   ]
  },
  {
   "cell_type": "code",
   "execution_count": 12,
   "metadata": {
    "execution": {
     "iopub.execute_input": "2024-12-07T23:19:33.824397Z",
     "iopub.status.busy": "2024-12-07T23:19:33.823903Z",
     "iopub.status.idle": "2024-12-07T23:19:33.842785Z",
     "shell.execute_reply": "2024-12-07T23:19:33.841125Z",
     "shell.execute_reply.started": "2024-12-07T23:19:33.824348Z"
    },
    "id": "pfzpW-NAJnjB",
    "trusted": true
   },
   "outputs": [],
   "source": [
    "# from sb3_contrib import QRDQN"
   ]
  },
  {
   "cell_type": "code",
   "execution_count": 13,
   "metadata": {
    "execution": {
     "iopub.execute_input": "2024-12-07T23:19:33.845885Z",
     "iopub.status.busy": "2024-12-07T23:19:33.845301Z",
     "iopub.status.idle": "2024-12-07T23:19:33.862550Z",
     "shell.execute_reply": "2024-12-07T23:19:33.859975Z",
     "shell.execute_reply.started": "2024-12-07T23:19:33.845832Z"
    },
    "id": "S4uVRdT9f1aS",
    "trusted": true
   },
   "outputs": [],
   "source": [
    "from datetime import datetime\n",
    "from stable_baselines3 import A2C\n",
    "from stable_baselines3.ppo.policies import MlpPolicy\n",
    "from wandb.integration.sb3 import WandbCallback"
   ]
  },
  {
   "cell_type": "code",
   "execution_count": 14,
   "metadata": {
    "execution": {
     "iopub.execute_input": "2024-12-07T23:19:33.866206Z",
     "iopub.status.busy": "2024-12-07T23:19:33.865018Z",
     "iopub.status.idle": "2024-12-07T23:19:33.881680Z",
     "shell.execute_reply": "2024-12-07T23:19:33.879805Z",
     "shell.execute_reply.started": "2024-12-07T23:19:33.866129Z"
    },
    "trusted": true
   },
   "outputs": [],
   "source": [
    "from stable_baselines3.common.env_util import make_vec_env"
   ]
  },
  {
   "cell_type": "code",
   "execution_count": 15,
   "metadata": {
    "execution": {
     "iopub.execute_input": "2024-12-07T23:19:33.887681Z",
     "iopub.status.busy": "2024-12-07T23:19:33.884434Z",
     "iopub.status.idle": "2024-12-07T23:19:33.899798Z",
     "shell.execute_reply": "2024-12-07T23:19:33.898020Z",
     "shell.execute_reply.started": "2024-12-07T23:19:33.887608Z"
    },
    "trusted": true
   },
   "outputs": [],
   "source": [
    "from stable_baselines3 import PPO"
   ]
  },
  {
   "cell_type": "code",
   "execution_count": 16,
   "metadata": {
    "execution": {
     "iopub.execute_input": "2024-12-07T23:19:33.901999Z",
     "iopub.status.busy": "2024-12-07T23:19:33.901457Z",
     "iopub.status.idle": "2024-12-07T23:19:33.915671Z",
     "shell.execute_reply": "2024-12-07T23:19:33.913219Z",
     "shell.execute_reply.started": "2024-12-07T23:19:33.901946Z"
    },
    "trusted": true
   },
   "outputs": [],
   "source": [
    "from stable_baselines3.common.callbacks import EvalCallback, CallbackList"
   ]
  },
  {
   "cell_type": "code",
   "execution_count": 17,
   "metadata": {
    "execution": {
     "iopub.execute_input": "2024-12-07T23:19:33.917866Z",
     "iopub.status.busy": "2024-12-07T23:19:33.917398Z",
     "iopub.status.idle": "2024-12-07T23:19:33.931835Z",
     "shell.execute_reply": "2024-12-07T23:19:33.930326Z",
     "shell.execute_reply.started": "2024-12-07T23:19:33.917822Z"
    },
    "trusted": true
   },
   "outputs": [],
   "source": [
    "import collections"
   ]
  },
  {
   "cell_type": "code",
   "execution_count": 18,
   "metadata": {
    "execution": {
     "iopub.execute_input": "2024-12-07T23:19:33.934089Z",
     "iopub.status.busy": "2024-12-07T23:19:33.933505Z",
     "iopub.status.idle": "2024-12-07T23:19:33.950118Z",
     "shell.execute_reply": "2024-12-07T23:19:33.948235Z",
     "shell.execute_reply.started": "2024-12-07T23:19:33.934052Z"
    },
    "trusted": true
   },
   "outputs": [],
   "source": [
    "from stable_baselines3.common.callbacks import BaseCallback\n",
    "import torch"
   ]
  },
  {
   "cell_type": "code",
   "execution_count": 19,
   "metadata": {
    "execution": {
     "iopub.execute_input": "2024-12-07T23:19:33.952418Z",
     "iopub.status.busy": "2024-12-07T23:19:33.951939Z",
     "iopub.status.idle": "2024-12-07T23:19:33.978434Z",
     "shell.execute_reply": "2024-12-07T23:19:33.976923Z",
     "shell.execute_reply.started": "2024-12-07T23:19:33.952370Z"
    },
    "trusted": true
   },
   "outputs": [],
   "source": [
    "from stable_baselines3.common.vec_env import VecEnvWrapper"
   ]
  },
  {
   "cell_type": "code",
   "execution_count": null,
   "metadata": {
    "trusted": true
   },
   "outputs": [],
   "source": []
  },
  {
   "cell_type": "code",
   "execution_count": 20,
   "metadata": {
    "execution": {
     "iopub.execute_input": "2024-12-07T23:19:33.981025Z",
     "iopub.status.busy": "2024-12-07T23:19:33.980435Z",
     "iopub.status.idle": "2024-12-07T23:19:35.271979Z",
     "shell.execute_reply": "2024-12-07T23:19:35.270145Z",
     "shell.execute_reply.started": "2024-12-07T23:19:33.980941Z"
    },
    "trusted": true
   },
   "outputs": [
    {
     "name": "stdout",
     "output_type": "stream",
     "text": [
      "/bin/bash: nvidia-smi: command not found\n"
     ]
    }
   ],
   "source": [
    "!nvidia-smi"
   ]
  },
  {
   "cell_type": "code",
   "execution_count": 21,
   "metadata": {
    "execution": {
     "iopub.execute_input": "2024-12-07T23:19:35.275397Z",
     "iopub.status.busy": "2024-12-07T23:19:35.274774Z",
     "iopub.status.idle": "2024-12-07T23:19:35.283166Z",
     "shell.execute_reply": "2024-12-07T23:19:35.281788Z",
     "shell.execute_reply.started": "2024-12-07T23:19:35.275338Z"
    },
    "executionInfo": {
     "elapsed": 291,
     "status": "ok",
     "timestamp": 1733280446854,
     "user": {
      "displayName": "Amrit cheema",
      "userId": "09351746591115935562"
     },
     "user_tz": -60
    },
    "id": "eC5vil4-JnjC",
    "trusted": true
   },
   "outputs": [],
   "source": [
    "# configuration file\n",
    "config = {\n",
    "    \"policy_type\": \"CnnPolicy\",\n",
    "    \"total_timesteps\": 1000000, # 1000000, 3000000, 20000000\n",
    "    \"Algo\": \"PPO\",\n",
    "    \"env_name\": \"ALE/Pong-v5\",\n",
    "    \"model_name\": \"ALE/Pong-v5\",\n",
    "    \"export_path\": \"/kaggle/working/exports/\",\n",
    "    \"videos_path\": \"/kaggle/working/videos/\",\n",
    "}\n",
    "\n"
   ]
  },
  {
   "cell_type": "code",
   "execution_count": 22,
   "metadata": {
    "execution": {
     "iopub.execute_input": "2024-12-07T23:19:35.284938Z",
     "iopub.status.busy": "2024-12-07T23:19:35.284536Z",
     "iopub.status.idle": "2024-12-07T23:19:35.415678Z",
     "shell.execute_reply": "2024-12-07T23:19:35.413865Z",
     "shell.execute_reply.started": "2024-12-07T23:19:35.284903Z"
    },
    "trusted": true
   },
   "outputs": [],
   "source": [
    "from kaggle_secrets import UserSecretsClient\n",
    "user_secrets = UserSecretsClient()\n",
    "secret_value_0 = user_secrets.get_secret(\"WANDB_API_KEY \")"
   ]
  },
  {
   "cell_type": "code",
   "execution_count": 23,
   "metadata": {
    "execution": {
     "iopub.execute_input": "2024-12-07T23:19:35.418319Z",
     "iopub.status.busy": "2024-12-07T23:19:35.417783Z",
     "iopub.status.idle": "2024-12-07T23:19:54.684274Z",
     "shell.execute_reply": "2024-12-07T23:19:54.683026Z",
     "shell.execute_reply.started": "2024-12-07T23:19:35.418265Z"
    },
    "executionInfo": {
     "elapsed": 3799,
     "status": "ok",
     "timestamp": 1733280455801,
     "user": {
      "displayName": "Amrit cheema",
      "userId": "09351746591115935562"
     },
     "user_tz": -60
    },
    "id": "zkNShWgEjJa1",
    "outputId": "6358f7e5-7ff3-41f7-a5ef-f994f8491c50",
    "trusted": true
   },
   "outputs": [
    {
     "name": "stderr",
     "output_type": "stream",
     "text": [
      "\u001b[34m\u001b[1mwandb\u001b[0m: Using wandb-core as the SDK backend.  Please refer to https://wandb.me/wandb-core for more information.\n",
      "\u001b[34m\u001b[1mwandb\u001b[0m: W&B API key is configured. Use \u001b[1m`wandb login --relogin`\u001b[0m to force relogin\n",
      "\u001b[34m\u001b[1mwandb\u001b[0m: \u001b[33mWARNING\u001b[0m If you're specifying your api key in code, ensure this code is not shared publicly.\n",
      "\u001b[34m\u001b[1mwandb\u001b[0m: \u001b[33mWARNING\u001b[0m Consider setting the WANDB_API_KEY environment variable, or running `wandb login` from the command line.\n",
      "\u001b[34m\u001b[1mwandb\u001b[0m: Appending key for api.wandb.ai to your netrc file: /root/.netrc\n",
      "\u001b[34m\u001b[1mwandb\u001b[0m: Currently logged in as: \u001b[33mamrit0081\u001b[0m (\u001b[33meducation_ai\u001b[0m). Use \u001b[1m`wandb login --relogin`\u001b[0m to force relogin\n"
     ]
    },
    {
     "data": {
      "text/html": [
       "Tracking run with wandb version 0.18.7"
      ],
      "text/plain": [
       "<IPython.core.display.HTML object>"
      ]
     },
     "metadata": {},
     "output_type": "display_data"
    },
    {
     "data": {
      "text/html": [
       "Run data is saved locally in <code>/kaggle/working/wandb/run-20241207_231952-75q39ths</code>"
      ],
      "text/plain": [
       "<IPython.core.display.HTML object>"
      ]
     },
     "metadata": {},
     "output_type": "display_data"
    },
    {
     "data": {
      "text/html": [
       "Syncing run <strong><a href='https://wandb.ai/education_ai/project_2/runs/75q39ths' target=\"_blank\">stellar-galaxy-28</a></strong> to <a href='https://wandb.ai/education_ai/project_2' target=\"_blank\">Weights & Biases</a> (<a href='https://wandb.me/developer-guide' target=\"_blank\">docs</a>)<br/>"
      ],
      "text/plain": [
       "<IPython.core.display.HTML object>"
      ]
     },
     "metadata": {},
     "output_type": "display_data"
    },
    {
     "data": {
      "text/html": [
       " View project at <a href='https://wandb.ai/education_ai/project_2' target=\"_blank\">https://wandb.ai/education_ai/project_2</a>"
      ],
      "text/plain": [
       "<IPython.core.display.HTML object>"
      ]
     },
     "metadata": {},
     "output_type": "display_data"
    },
    {
     "data": {
      "text/html": [
       " View run at <a href='https://wandb.ai/education_ai/project_2/runs/75q39ths' target=\"_blank\">https://wandb.ai/education_ai/project_2/runs/75q39ths</a>"
      ],
      "text/plain": [
       "<IPython.core.display.HTML object>"
      ]
     },
     "metadata": {},
     "output_type": "display_data"
    }
   ],
   "source": [
    "# Wandb setup\n",
    "wandb.login(key=secret_value_0)\n",
    "run = wandb.init(\n",
    "    project=\"Project_2\",\n",
    "    config=config,\n",
    "    sync_tensorboard=True,  # auto-upload sb3's tensorboard metrics\n",
    "    save_code=True,  # optional\n",
    ")"
   ]
  },
  {
   "cell_type": "code",
   "execution_count": 24,
   "metadata": {
    "execution": {
     "iopub.execute_input": "2024-12-07T23:19:54.686523Z",
     "iopub.status.busy": "2024-12-07T23:19:54.686058Z",
     "iopub.status.idle": "2024-12-07T23:19:54.938086Z",
     "shell.execute_reply": "2024-12-07T23:19:54.936620Z",
     "shell.execute_reply.started": "2024-12-07T23:19:54.686469Z"
    },
    "trusted": true
   },
   "outputs": [],
   "source": [
    "class MyVecTransposeImage(VecEnvWrapper):\n",
    "    def __init__(self, venv, skip=False):\n",
    "        super().__init__(venv)\n",
    "        self.skip = skip\n",
    "\n",
    "        # Get original shape: e.g., (84, 84, 4)\n",
    "        old_shape = self.observation_space.shape\n",
    "        # Transpose shape to (C, H, W)\n",
    "        new_shape = (old_shape[2], old_shape[0], old_shape[1])  # (4, 84, 84)\n",
    "\n",
    "        # Use the original low/high if they are uniform; if not, use min/max appropriately\n",
    "        low_val = self.observation_space.low.min()\n",
    "        high_val = self.observation_space.high.max()\n",
    "\n",
    "        self.observation_space = gym.spaces.Box(\n",
    "            low=low_val,\n",
    "            high=high_val,\n",
    "            shape=new_shape,\n",
    "            dtype=self.observation_space.dtype\n",
    "        )\n",
    "\n",
    "    def reset(self):\n",
    "        obs = self.venv.reset()\n",
    "        return self.transpose_observations(obs)\n",
    "\n",
    "    def step_async(self, actions):\n",
    "        self.venv.step_async(actions)\n",
    "\n",
    "    def step_wait(self):\n",
    "        obs, rewards, dones, infos = self.venv.step_wait()\n",
    "        return self.transpose_observations(obs), rewards, dones, infos\n",
    "\n",
    "    def transpose_observations(self, obs):\n",
    "        if self.skip:\n",
    "            return obs\n",
    "        if isinstance(obs, dict):\n",
    "            for key, val in obs.items():\n",
    "                obs[key] = self._transpose(val)\n",
    "            return obs\n",
    "        else:\n",
    "            return self._transpose(obs)\n",
    "\n",
    "    def _transpose(self, obs):\n",
    "        # obs shape is (n_envs, H, W, C) -> transpose to (n_envs, C, H, W)\n",
    "        return obs.transpose(0, 3, 1, 2)\n"
   ]
  },
  {
   "cell_type": "code",
   "execution_count": null,
   "metadata": {
    "trusted": true
   },
   "outputs": [],
   "source": []
  },
  {
   "cell_type": "code",
   "execution_count": 25,
   "metadata": {
    "execution": {
     "iopub.execute_input": "2024-12-07T23:19:54.940970Z",
     "iopub.status.busy": "2024-12-07T23:19:54.940538Z",
     "iopub.status.idle": "2024-12-07T23:19:57.007622Z",
     "shell.execute_reply": "2024-12-07T23:19:57.006301Z",
     "shell.execute_reply.started": "2024-12-07T23:19:54.940932Z"
    },
    "executionInfo": {
     "elapsed": 1160,
     "status": "ok",
     "timestamp": 1733280459863,
     "user": {
      "displayName": "Amrit cheema",
      "userId": "09351746591115935562"
     },
     "user_tz": -60
    },
    "id": "sPknvIhmJnjC",
    "outputId": "854f052d-d675-4c90-eca4-fac5440888aa",
    "trusted": true
   },
   "outputs": [
    {
     "name": "stderr",
     "output_type": "stream",
     "text": [
      "A.L.E: Arcade Learning Environment (version 0.10.1+unknown)\n",
      "[Powered by Stella]\n"
     ]
    },
    {
     "name": "stdout",
     "output_type": "stream",
     "text": [
      "Standard Env.        : (210, 160)\n",
      "FireResetEnv          : (210, 160)\n",
      "ResizeObservation    : (84, 84)\n",
      "AddChannelDimension  : (84, 84, 1)\n",
      "ScaledFloatFrame     : (84, 84, 1)\n",
      "Standard Env.        : (210, 160)\n",
      "FireResetEnv          : (210, 160)\n",
      "ResizeObservation    : (84, 84)\n",
      "AddChannelDimension  : (84, 84, 1)\n",
      "ScaledFloatFrame     : (84, 84, 1)\n",
      "Standard Env.        : (210, 160)\n",
      "FireResetEnv          : (210, 160)\n",
      "ResizeObservation    : (84, 84)\n",
      "AddChannelDimension  : (84, 84, 1)\n",
      "ScaledFloatFrame     : (84, 84, 1)\n",
      "Standard Env.        : (210, 160)\n",
      "FireResetEnv          : (210, 160)\n",
      "ResizeObservation    : (84, 84)\n",
      "AddChannelDimension  : (84, 84, 1)\n",
      "ScaledFloatFrame     : (84, 84, 1)\n",
      "Standard Env.        : (210, 160)\n",
      "FireResetEnv          : (210, 160)\n",
      "ResizeObservation    : (84, 84)\n",
      "AddChannelDimension  : (84, 84, 1)\n",
      "ScaledFloatFrame     : (84, 84, 1)\n",
      "Standard Env.        : (210, 160)\n",
      "FireResetEnv          : (210, 160)\n",
      "ResizeObservation    : (84, 84)\n",
      "AddChannelDimension  : (84, 84, 1)\n",
      "ScaledFloatFrame     : (84, 84, 1)\n",
      "Standard Env.        : (210, 160)\n",
      "FireResetEnv          : (210, 160)\n",
      "ResizeObservation    : (84, 84)\n",
      "AddChannelDimension  : (84, 84, 1)\n",
      "ScaledFloatFrame     : (84, 84, 1)\n",
      "Standard Env.        : (210, 160)\n",
      "FireResetEnv          : (210, 160)\n",
      "ResizeObservation    : (84, 84)\n",
      "AddChannelDimension  : (84, 84, 1)\n",
      "ScaledFloatFrame     : (84, 84, 1)\n",
      "Post VecFrameStack Shape: (84, 84, 4)\n",
      "VecTransposeImage Shape: (4, 84, 84)\n",
      "Final Observation Space: (4, 84, 84)\n"
     ]
    }
   ],
   "source": [
    "class ScaledFloatFrame(gym.ObservationWrapper):\n",
    "    def __init__(self, env):\n",
    "        super().__init__(env)\n",
    "        # The original shape remains (84,84,1), but the dtype and range change\n",
    "        self.observation_space = gym.spaces.Box(\n",
    "            low=0.0,\n",
    "            high=1.0,\n",
    "            shape=self.observation_space.shape,\n",
    "            dtype=np.float32\n",
    "        )\n",
    "        \n",
    "    def observation(self, obs):\n",
    "        return np.array(obs).astype(np.float32) / 255.0\n",
    "\n",
    "\n",
    "# class ScaledFloatFrame(gym.ObservationWrapper):\n",
    "#     def observation(self, obs):\n",
    "#         return np.array(obs).astype(np.float32) / 255.0\n",
    "\n",
    "\n",
    "\n",
    "class FireResetEnv(gym.Wrapper):\n",
    "    def __init__(self, env=None):\n",
    "        super().__init__(env)\n",
    "        # Check that 'FIRE' is a valid action in the environment\n",
    "        assert 'FIRE' in env.unwrapped.get_action_meanings(), \"Environment does not support 'FIRE' action\"\n",
    "        assert len(env.unwrapped.get_action_meanings()) >= 3, \"Action space too small for expected actions\"\n",
    "\n",
    "    def step(self, action):\n",
    "        return self.env.step(action)\n",
    "\n",
    "    def reset(self, **kwargs):\n",
    "        # Reset the environment\n",
    "        obs, info = self.env.reset(**kwargs)\n",
    "\n",
    "        # Perform the FIRE action\n",
    "        obs, _, terminated, truncated, _ = self.env.step(1)\n",
    "        if terminated or truncated:  # If game ends after FIRE, reset again\n",
    "            obs, info = self.env.reset(**kwargs)\n",
    "\n",
    "        return obs, info\n",
    "        \n",
    "# Custom wrapper to add channel dimension\n",
    "class AddChannelDimension(gym.ObservationWrapper):\n",
    "    def __init__(self, env):\n",
    "        super().__init__(env)\n",
    "        obs_shape = self.observation_space.shape\n",
    "        # Update the observation space to include a channel dimension\n",
    "        self.observation_space = gym.spaces.Box(\n",
    "            low=0,\n",
    "            high=255,\n",
    "            shape=(obs_shape[0], obs_shape[1], 1),\n",
    "            dtype=np.uint8,\n",
    "        )\n",
    "\n",
    "    def observation(self, observation):\n",
    "        # Add a channel dimension\n",
    "        return np.expand_dims(observation, axis=-1)\n",
    "\n",
    "# class MaxAndSkipEnv(gym.Wrapper):\n",
    "#     def __init__(self, env=None, skip=4):\n",
    "#         super(MaxAndSkipEnv, self).__init__(env)\n",
    "#         self._obs_buffer = collections.deque(maxlen=2)\n",
    "#         self._skip = skip\n",
    "\n",
    "#     def step(self, action):\n",
    "#         total_reward = 0.0\n",
    "#         done = None\n",
    "#         for _ in range(self._skip):\n",
    "#             obs, reward, terminated,truncated, info = self.env.step(action)\n",
    "#             done = terminated or truncated\n",
    "#             self._obs_buffer.append(obs)\n",
    "#             total_reward += reward\n",
    "#             if done:\n",
    "#                 break\n",
    "#         max_frame = np.max(np.stack(self._obs_buffer), axis=0)\n",
    "#         return max_frame, total_reward, terminated, truncated, info\n",
    "\n",
    "    # def reset(self, *, seed=None, options=None):\n",
    "    #     self._obs_buffer.clear()\n",
    "    #     obs, info = self.env.reset(seed=seed, options=options)\n",
    "    #     self._obs_buffer.append(obs)\n",
    "    #     return obs, info\n",
    "\n",
    "\n",
    "def make_env(env_name, obs_type=\"grayscale\", render_mode=None,):\n",
    "    def _init():\n",
    "        env = gym.make(env_name, obs_type=\"grayscale\", render_mode=render_mode)\n",
    "        print(\"Standard Env.        : {}\".format(env.observation_space.shape))\n",
    "        env = FireResetEnv(env)\n",
    "        print(\"FireResetEnv          : {}\".format(env.observation_space.shape))\n",
    "        # env = MaxAndSkipEnv(env)\n",
    "        # print(\"MaxAndSkipEnv        : {}\".format(env.observation_space.shape))\n",
    "        env = ResizeObservation(env, (84, 84))\n",
    "        print(\"ResizeObservation    : {}\".format(env.observation_space.shape))\n",
    "        env = AddChannelDimension(env)  # Add channel dimension here\n",
    "        print(\"AddChannelDimension  : {}\".format(env.observation_space.shape))\n",
    "        # env = GrayscaleObservation(env, keep_dim=True)\n",
    "        # print(\"GrayscaleObservation : {}\".format(env.observation_space.shape))\n",
    "        \n",
    "        env = ScaledFloatFrame(env)\n",
    "        print(\"ScaledFloatFrame     : {}\".format(env.observation_space.shape))\n",
    "        \n",
    "        # env = Monitor(env, allow_early_resets=False) # from stable baselines\n",
    "        # print(\"Monitor               : {}\".format(env.observation_space.shape))\n",
    "\n",
    "        return env\n",
    "    return _init\n",
    "\n",
    "\n",
    "\n",
    "# env = DummyVecEnv([make_env(config[\"env_name\"])])\n",
    "# use make_vec_env with n_envs=16\n",
    "env = make_vec_env(env_id=make_env(config[\"env_name\"]), n_envs=8)\n",
    "\n",
    "# stack 4 frames\n",
    "env = VecFrameStack(env, n_stack=4)\n",
    "print(\"Post VecFrameStack Shape: {}\".format(env.observation_space.shape))\n",
    "\n",
    "# convert back to PyTorch format (channel-first)\n",
    "# env = VecTransposeImage(env)\n",
    "env = MyVecTransposeImage(env)\n",
    "print(\"VecTransposeImage Shape: {}\".format(env.observation_space.shape))\n",
    "\n",
    "print(\"Final Observation Space: {}\".format(env.observation_space.shape))"
   ]
  },
  {
   "cell_type": "code",
   "execution_count": null,
   "metadata": {
    "trusted": true
   },
   "outputs": [],
   "source": []
  },
  {
   "cell_type": "markdown",
   "metadata": {},
   "source": [
    "# Start Testing"
   ]
  },
  {
   "cell_type": "code",
   "execution_count": 26,
   "metadata": {
    "execution": {
     "iopub.execute_input": "2024-12-07T23:19:57.009613Z",
     "iopub.status.busy": "2024-12-07T23:19:57.009220Z",
     "iopub.status.idle": "2024-12-07T23:19:57.254766Z",
     "shell.execute_reply": "2024-12-07T23:19:57.253570Z",
     "shell.execute_reply.started": "2024-12-07T23:19:57.009574Z"
    },
    "trusted": true
   },
   "outputs": [],
   "source": [
    "# class ScaledFloatFrame(gym.ObservationWrapper):\n",
    "#     def __init__(self, env):\n",
    "#         super().__init__(env)\n",
    "#         # The original shape remains (84,84,1), but the dtype and range change\n",
    "#         self.observation_space = gym.spaces.Box(\n",
    "#             low=0.0,\n",
    "#             high=1.0,\n",
    "#             shape=self.observation_space.shape,\n",
    "#             dtype=np.float32\n",
    "#         )\n",
    "        \n",
    "#     def observation(self, obs):\n",
    "#         return np.array(obs).astype(np.float32) / 255.0"
   ]
  },
  {
   "cell_type": "code",
   "execution_count": 27,
   "metadata": {
    "execution": {
     "iopub.execute_input": "2024-12-07T23:19:57.256605Z",
     "iopub.status.busy": "2024-12-07T23:19:57.256243Z",
     "iopub.status.idle": "2024-12-07T23:19:57.546897Z",
     "shell.execute_reply": "2024-12-07T23:19:57.545287Z",
     "shell.execute_reply.started": "2024-12-07T23:19:57.256568Z"
    },
    "trusted": true
   },
   "outputs": [],
   "source": [
    "# def make_env(env_name, obs_type=\"grayscale\", render_mode=None,):\n",
    "#     def _init():\n",
    "#         env = gym.make(env_name, obs_type=\"grayscale\", render_mode=render_mode)\n",
    "#         print(\"Standard Env.        : {}\".format(env.observation_space.shape))\n",
    "#         env = FireResetEnv(env)\n",
    "#         print(\"FireResetEnv          : {}\".format(env.observation_space.shape))\n",
    "#         env = ResizeObservation(env, (84, 84))\n",
    "#         print(\"ResizeObservation    : {}\".format(env.observation_space.shape))\n",
    "#         env = ResizeObservation(env, (84, 84))\n",
    "#         print(\"ResizeObservation    : {}\".format(env.observation_space.shape))\n",
    "#         env = AddChannelDimension(env)  # Add channel dimension here\n",
    "#         print(\"AddChannelDimension  : {}\".format(env.observation_space.shape))\n",
    "#         env = ScaledFloatFrame(env)\n",
    "#         print(\"ScaledFloatFrame     : {}\".format(env.observation_space.shape))\n",
    "\n",
    "#         return env\n",
    "#     return _init"
   ]
  },
  {
   "cell_type": "code",
   "execution_count": 28,
   "metadata": {
    "execution": {
     "iopub.execute_input": "2024-12-07T23:19:57.553143Z",
     "iopub.status.busy": "2024-12-07T23:19:57.552680Z",
     "iopub.status.idle": "2024-12-07T23:19:57.816532Z",
     "shell.execute_reply": "2024-12-07T23:19:57.815234Z",
     "shell.execute_reply.started": "2024-12-07T23:19:57.553105Z"
    },
    "trusted": true
   },
   "outputs": [],
   "source": [
    "# # env = gym.make(\"ALE/Pong-v5\", obs_type=\"grayscale\")\n",
    "# # print(\"Standard Env.        : {}\".format(env.observation_space.shape))\n",
    "# # env = FireResetEnv(env)\n",
    "# # print(\"FireResetEnv          : {}\".format(env.observation_space.shape))\n",
    "# # env = ResizeObservation(env, (84, 84))\n",
    "# # print(\"ResizeObservation    : {}\".format(env.observation_space.shape))\n",
    "# # env = AddChannelDimension(env)\n",
    "# # print(\"AddChannelDimension   : {}\".format(env.observation_space.shape))\n",
    "# # env = ScaledFloatFrame(env)\n",
    "# # print(\"ScaledFloatFrame     : {}\".format(env.observation_space.shape))\n",
    "# # env = Monitor(env, allow_early_resets=False) # from stable baselines\n",
    "# # print(\"Monitor               : {}\".format(env.observation_space.shape))\n",
    "# env = make_vec_env(env_id=make_env(config[\"env_name\"]), n_envs=1)\n",
    "# obs = env.reset()\n",
    "# print(obs.shape)\n",
    "# print(obs)\n",
    "# print(\"Initial Obs Stats -> min:\", obs.min(), \"max:\", obs.max(), \"mean:\", obs.mean())"
   ]
  },
  {
   "cell_type": "markdown",
   "metadata": {},
   "source": [
    "# End Testing"
   ]
  },
  {
   "cell_type": "code",
   "execution_count": 29,
   "metadata": {
    "execution": {
     "iopub.execute_input": "2024-12-07T23:19:57.818779Z",
     "iopub.status.busy": "2024-12-07T23:19:57.818254Z",
     "iopub.status.idle": "2024-12-07T23:19:58.093037Z",
     "shell.execute_reply": "2024-12-07T23:19:58.091684Z",
     "shell.execute_reply.started": "2024-12-07T23:19:57.818697Z"
    },
    "trusted": true
   },
   "outputs": [
    {
     "name": "stdout",
     "output_type": "stream",
     "text": [
      "Check\n",
      "Post VecFrameStack Shape: (4, 84, 84)\n",
      "Final Observation Space: (4, 84, 84)\n"
     ]
    }
   ],
   "source": [
    "print(\"Check\")\n",
    "print(\"Post VecFrameStack Shape: {}\".format(env.observation_space.shape))\n",
    "print(\"Final Observation Space: {}\".format(env.observation_space.shape))"
   ]
  },
  {
   "cell_type": "code",
   "execution_count": 30,
   "metadata": {
    "execution": {
     "iopub.execute_input": "2024-12-07T23:19:58.095321Z",
     "iopub.status.busy": "2024-12-07T23:19:58.094792Z",
     "iopub.status.idle": "2024-12-07T23:19:58.566773Z",
     "shell.execute_reply": "2024-12-07T23:19:58.565808Z",
     "shell.execute_reply.started": "2024-12-07T23:19:58.095269Z"
    },
    "trusted": true
   },
   "outputs": [
    {
     "name": "stdout",
     "output_type": "stream",
     "text": [
      "Standard Env.        : (210, 160)\n",
      "FireResetEnv          : (210, 160)\n",
      "ResizeObservation    : (84, 84)\n",
      "AddChannelDimension  : (84, 84, 1)\n",
      "ScaledFloatFrame     : (84, 84, 1)\n",
      "eval_env Post VecFrameStack Shape: (84, 84, 4)\n",
      "eval_env MyVecTransposeImage Shape: (4, 84, 84)\n",
      "eval_env Final Observation Space: (4, 84, 84)\n"
     ]
    }
   ],
   "source": [
    "# def make_env_evual(env_name, obs_type=\"grayscale\", render_mode=None,):\n",
    "#     def _init():\n",
    "#         env = gym.make(env_name, obs_type=\"grayscale\", render_mode=render_mode)\n",
    "#         print(\"Standard Env.        : {}\".format(env.observation_space.shape))\n",
    "#         env = FireResetEnv(env)\n",
    "#         print(\"FireResetEnv          : {}\".format(env.observation_space.shape))\n",
    "#         # env = MaxAndSkipEnv(env)\n",
    "#         # print(\"MaxAndSkipEnv        : {}\".format(env.observation_space.shape))\n",
    "#         env = ResizeObservation(env, (84, 84))\n",
    "#         print(\"ResizeObservation    : {}\".format(env.observation_space.shape))\n",
    "#         env = AddChannelDimension(env)  # Add channel dimension here\n",
    "#         print(\"AddChannelDimension  : {}\".format(env.observation_space.shape))\n",
    "#         # env = GrayscaleObservation(env, keep_dim=True)\n",
    "#         # print(\"GrayscaleObservation : {}\".format(env.observation_space.shape))\n",
    "#         env = ScaledFloatFrame(env)\n",
    "#         print(\"ScaledFloatFrame     : {}\".format(env.observation_space.shape))\n",
    "#         # env = Monitor(env, allow_early_resets=False) # from stable baselines\n",
    "#         # print(\"Monitor               : {}\".format(env.observation_space.shape))\n",
    "\n",
    "#         return env\n",
    "#     return _init\n",
    "\n",
    "\n",
    "# Create an evaluation environment (similar to our training env)\n",
    "eval_env = make_vec_env(env_id=make_env(config[\"env_name\"]), n_envs=1)\n",
    "\n",
    "# stack 4 frames\n",
    "eval_env = VecFrameStack(eval_env, n_stack=4)\n",
    "print(\"eval_env Post VecFrameStack Shape: {}\".format(eval_env.observation_space.shape))\n",
    "\n",
    "# convert back to PyTorch format (channel-first)\n",
    "# eval_env = VecTransposeImage(eval_env)\n",
    "eval_env = MyVecTransposeImage(eval_env)\n",
    "print(\"eval_env MyVecTransposeImage Shape: {}\".format(eval_env.observation_space.shape))\n",
    "print(\"eval_env Final Observation Space: {}\".format(eval_env.observation_space.shape))"
   ]
  },
  {
   "cell_type": "code",
   "execution_count": 31,
   "metadata": {
    "execution": {
     "iopub.execute_input": "2024-12-07T23:19:58.568707Z",
     "iopub.status.busy": "2024-12-07T23:19:58.568274Z",
     "iopub.status.idle": "2024-12-07T23:19:59.223913Z",
     "shell.execute_reply": "2024-12-07T23:19:59.222800Z",
     "shell.execute_reply.started": "2024-12-07T23:19:58.568669Z"
    },
    "trusted": true
   },
   "outputs": [],
   "source": [
    "# obs = eval_env.reset()\n",
    "# print(obs.shape)\n",
    "# print(obs)\n",
    "# print(\"Initial Obs Stats -> min:\", obs.min(), \"max:\", obs.max(), \"mean:\", obs.mean())"
   ]
  },
  {
   "cell_type": "code",
   "execution_count": null,
   "metadata": {
    "execution": {
     "iopub.execute_input": "2024-12-07T23:24:30.050190Z",
     "iopub.status.busy": "2024-12-07T23:24:30.048536Z",
     "iopub.status.idle": "2024-12-07T23:24:31.953860Z",
     "shell.execute_reply": "2024-12-07T23:24:31.952550Z",
     "shell.execute_reply.started": "2024-12-07T23:24:30.050136Z"
    },
    "executionInfo": {
     "elapsed": 4533219,
     "status": "ok",
     "timestamp": 1733284994133,
     "user": {
      "displayName": "Amrit cheema",
      "userId": "09351746591115935562"
     },
     "user_tz": -60
    },
    "id": "6YPvHbZ1f1aS",
    "outputId": "ae848be6-36fe-4984-f2aa-d1c6f628453a",
    "trusted": true
   },
   "outputs": [],
   "source": [
    "# define\n",
    "# batch_size=30048,\n",
    "# policy_kwargs = dict(net_arch=[512, 256])\n",
    "model = PPO(config[\"policy_type\"], \n",
    "            env, \n",
    "            verbose=0, \n",
    "            tensorboard_log=f\"runs/{run.id}\",\n",
    "            batch_size=256, \n",
    "            learning_rate=0.001, #2.5e-4\n",
    "            gamma=0.99,\n",
    "            n_steps=128,\n",
    "            n_epochs=4,\n",
    "            clip_range=0.1,\n",
    "            vf_coef=0.5,\n",
    "            ent_coef=0.01,\n",
    "            policy_kwargs=dict(net_arch=[512, 256], normalize_images=False),\n",
    "            device=\"cuda\")\n"
   ]
  },
  {
   "cell_type": "code",
   "execution_count": null,
   "metadata": {
    "execution": {
     "iopub.status.busy": "2024-12-07T23:19:59.933093Z",
     "iopub.status.idle": "2024-12-07T23:19:59.933502Z",
     "shell.execute_reply": "2024-12-07T23:19:59.933339Z",
     "shell.execute_reply.started": "2024-12-07T23:19:59.933320Z"
    },
    "trusted": true
   },
   "outputs": [],
   "source": [
    "# Create the evaluation callback\n",
    "eval_callback = EvalCallback(\n",
    "    eval_env,\n",
    "    best_model_save_path=config[\"export_path\"],  # directory to save the best model\n",
    "    log_path=config[\"export_path\"],              # evaluation logs\n",
    "    eval_freq=100000,                            # evaluate the model every 100,000 steps\n",
    "    deterministic=True,\n",
    "    render=False\n",
    ")"
   ]
  },
  {
   "cell_type": "code",
   "execution_count": null,
   "metadata": {
    "execution": {
     "iopub.status.busy": "2024-12-07T23:19:59.936128Z",
     "iopub.status.idle": "2024-12-07T23:19:59.936571Z",
     "shell.execute_reply": "2024-12-07T23:19:59.936394Z",
     "shell.execute_reply.started": "2024-12-07T23:19:59.936374Z"
    },
    "trusted": true
   },
   "outputs": [],
   "source": [
    "class GradientInspectionCallback(BaseCallback):\n",
    "    def __init__(self, verbose=0):\n",
    "        super(GradientInspectionCallback, self).__init__(verbose)\n",
    "    \n",
    "    def _on_step(self) -> bool:\n",
    "        # Access the policy network\n",
    "        policy_net = self.model.policy\n",
    "        \n",
    "        # Iterate over the parameters to inspect gradients\n",
    "        for name, param in policy_net.named_parameters():\n",
    "            if param.grad is not None:\n",
    "                grad_norm = param.grad.norm().item()\n",
    "                self.logger.record(f\"gradients/{name}_norm\", grad_norm)\n",
    "        \n",
    "        return True  # Continue training\n"
   ]
  },
  {
   "cell_type": "code",
   "execution_count": null,
   "metadata": {
    "execution": {
     "iopub.status.busy": "2024-12-07T23:19:59.937561Z",
     "iopub.status.idle": "2024-12-07T23:19:59.938037Z",
     "shell.execute_reply": "2024-12-07T23:19:59.937859Z",
     "shell.execute_reply.started": "2024-12-07T23:19:59.937835Z"
    },
    "trusted": true
   },
   "outputs": [],
   "source": [
    "class DebugObservationCallback(BaseCallback):\n",
    "    def __init__(self, verbose=0):\n",
    "        super(DebugObservationCallback, self).__init__(verbose)\n",
    "\n",
    "    def _on_step(self) -> bool:\n",
    "        # Get the current observation\n",
    "        observation = self.locals[\"new_obs\"]  # Observations from the environment\n",
    "        print(\"Observation mean:\", np.mean(observation))\n",
    "        print(\"Observation std:\", np.std(observation))\n",
    "        print(\"Observation min:\", np.min(observation))\n",
    "        print(\"Observation max:\", np.max(observation))\n",
    "\n",
    "        # Stop training if all observations are zero (optional)\n",
    "        # if np.all(observation == 0):\n",
    "        #     print(\"All observation values are zero. Exiting...\")\n",
    "        #     return False\n",
    "\n",
    "        return True  # Continue training"
   ]
  },
  {
   "cell_type": "code",
   "execution_count": null,
   "metadata": {
    "execution": {
     "iopub.status.busy": "2024-12-07T23:19:59.940297Z",
     "iopub.status.idle": "2024-12-07T23:19:59.940997Z",
     "shell.execute_reply": "2024-12-07T23:19:59.940670Z",
     "shell.execute_reply.started": "2024-12-07T23:19:59.940635Z"
    },
    "trusted": true
   },
   "outputs": [],
   "source": [
    "# Combine both callbacks\n",
    "# callbacks = CallbackList([eval_callback, WandbCallback(verbose=2), GradientInspectionCallback(), DebugObservationCallback()])\n",
    "callbacks = CallbackList([eval_callback, WandbCallback(verbose=2), GradientInspectionCallback()])"
   ]
  },
  {
   "cell_type": "code",
   "execution_count": null,
   "metadata": {
    "execution": {
     "iopub.status.busy": "2024-12-07T23:19:59.943417Z",
     "iopub.status.idle": "2024-12-07T23:19:59.944217Z",
     "shell.execute_reply": "2024-12-07T23:19:59.943768Z",
     "shell.execute_reply.started": "2024-12-07T23:19:59.943721Z"
    },
    "trusted": true
   },
   "outputs": [],
   "source": [
    "# train\n",
    "t0 = datetime.now()\n",
    "model.learn(total_timesteps=config[\"total_timesteps\"], callback=callbacks)\n",
    "t1 = datetime.now()\n",
    "print('>>> Training time (hh:mm:ss.ms): {}'.format(t1-t0))\n",
    "\n",
    "# save and export model\n",
    "model.save(config[\"export_path\"] + config[\"model_name\"])"
   ]
  },
  {
   "cell_type": "markdown",
   "metadata": {},
   "source": [
    "Training time without parallezing env: >>> Training time (hh:mm:ss.ms): 1:01:58.577332"
   ]
  },
  {
   "cell_type": "code",
   "execution_count": null,
   "metadata": {
    "execution": {
     "iopub.status.busy": "2024-12-07T23:19:59.946719Z",
     "iopub.status.idle": "2024-12-07T23:19:59.947298Z",
     "shell.execute_reply": "2024-12-07T23:19:59.947094Z",
     "shell.execute_reply.started": "2024-12-07T23:19:59.947069Z"
    },
    "trusted": true
   },
   "outputs": [],
   "source": [
    "print(\"Finish\")"
   ]
  },
  {
   "cell_type": "code",
   "execution_count": null,
   "metadata": {
    "execution": {
     "iopub.status.busy": "2024-12-07T23:19:59.949976Z",
     "iopub.status.idle": "2024-12-07T23:19:59.950532Z",
     "shell.execute_reply": "2024-12-07T23:19:59.950347Z",
     "shell.execute_reply.started": "2024-12-07T23:19:59.950325Z"
    },
    "trusted": true
   },
   "outputs": [],
   "source": [
    "# import shutil\n",
    "# shutil.rmtree(\"/kaggle/working/exports\")\n",
    "# os.remove(\"/kaggle/working/Breakout-v5.zip\")"
   ]
  },
  {
   "cell_type": "code",
   "execution_count": null,
   "metadata": {
    "execution": {
     "iopub.status.busy": "2024-12-07T23:19:59.953129Z",
     "iopub.status.idle": "2024-12-07T23:19:59.953649Z",
     "shell.execute_reply": "2024-12-07T23:19:59.953454Z",
     "shell.execute_reply.started": "2024-12-07T23:19:59.953432Z"
    },
    "executionInfo": {
     "elapsed": 1702,
     "status": "ok",
     "timestamp": 1733284995819,
     "user": {
      "displayName": "Amrit cheema",
      "userId": "09351746591115935562"
     },
     "user_tz": -60
    },
    "id": "so9okg9mrpk2",
    "outputId": "2413d966-b253-403c-a068-66de36159e6d",
    "trusted": true
   },
   "outputs": [],
   "source": [
    "# !zip -r folder_name.zip exports\n",
    "# from google.colab import files\n",
    "# files.download('folder_name.zip')"
   ]
  },
  {
   "cell_type": "code",
   "execution_count": null,
   "metadata": {
    "execution": {
     "iopub.status.busy": "2024-12-07T23:19:59.955667Z",
     "iopub.status.idle": "2024-12-07T23:19:59.956173Z",
     "shell.execute_reply": "2024-12-07T23:19:59.956000Z",
     "shell.execute_reply.started": "2024-12-07T23:19:59.955975Z"
    },
    "trusted": true
   },
   "outputs": [],
   "source": [
    "# env = gym.make(env_name, obs_type=\"grayscale\", render_mode=render_mode)\n",
    "#         print(\"Standard Env.        : {}\".format(env.observation_space.shape))\n",
    "#         env = FireResetEnv(env)\n",
    "#         print(\"FireResetEnv          : {}\".format(env.observation_space.shape))\n",
    "#         # env = MaxAndSkipEnv(env)\n",
    "#         # print(\"MaxAndSkipEnv        : {}\".format(env.observation_space.shape))\n",
    "#         env = ResizeObservation(env, (84, 84))\n",
    "#         print(\"ResizeObservation    : {}\".format(env.observation_space.shape))\n",
    "#         env = AddChannelDimension(env)  # Add channel dimension here\n",
    "#         print(\"AddChannelDimension  : {}\".format(env.observation_space.shape))\n",
    "#         # env = GrayscaleObservation(env, keep_dim=True)\n",
    "#         # print(\"GrayscaleObservation : {}\".format(env.observation_space.shape))\n",
    "#         env = ScaledFloatFrame(env)\n",
    "#         print(\"ScaledFloatFrame     : {}\".format(env.observation_space.shape))\n",
    "#         env = Monitor(env, allow_early_resets=False) # from stable baselines\n",
    "#         print(\"Monitor "
   ]
  }
 ],
 "metadata": {
  "accelerator": "GPU",
  "colab": {
   "gpuType": "T4",
   "provenance": []
  },
  "kaggle": {
   "accelerator": "nvidiaTeslaT4",
   "dataSources": [],
   "dockerImageVersionId": 30805,
   "isGpuEnabled": true,
   "isInternetEnabled": true,
   "language": "python",
   "sourceType": "notebook"
  },
  "kernelspec": {
   "display_name": "Python 3",
   "language": "python",
   "name": "python3"
  },
  "language_info": {
   "codemirror_mode": {
    "name": "ipython",
    "version": 3
   },
   "file_extension": ".py",
   "mimetype": "text/x-python",
   "name": "python",
   "nbconvert_exporter": "python",
   "pygments_lexer": "ipython3",
   "version": "3.10.14"
  }
 },
 "nbformat": 4,
 "nbformat_minor": 4
}
