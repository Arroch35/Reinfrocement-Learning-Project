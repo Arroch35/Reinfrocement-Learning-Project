{
 "cells": [
  {
   "cell_type": "code",
   "execution_count": 1,
   "metadata": {
    "colab": {
     "base_uri": "https://localhost:8080/"
    },
    "executionInfo": {
     "elapsed": 18725,
     "status": "ok",
     "timestamp": 1733279350125,
     "user": {
      "displayName": "Amrit cheema",
      "userId": "09351746591115935562"
     },
     "user_tz": -60
    },
    "id": "LDKmErPbJni9",
    "outputId": "6453b12a-446c-4e5a-c0b0-3070248e278c"
   },
   "outputs": [
    {
     "name": "stdout",
     "output_type": "stream",
     "text": [
      "Collecting gymnasium==1.0.0\n",
      "  Downloading gymnasium-1.0.0-py3-none-any.whl.metadata (9.5 kB)\n",
      "Requirement already satisfied: numpy>=1.21.0 in /usr/local/lib/python3.10/dist-packages (from gymnasium==1.0.0) (1.26.4)\n",
      "Requirement already satisfied: cloudpickle>=1.2.0 in /usr/local/lib/python3.10/dist-packages (from gymnasium==1.0.0) (3.1.0)\n",
      "Requirement already satisfied: typing-extensions>=4.3.0 in /usr/local/lib/python3.10/dist-packages (from gymnasium==1.0.0) (4.12.2)\n",
      "Collecting farama-notifications>=0.0.1 (from gymnasium==1.0.0)\n",
      "  Downloading Farama_Notifications-0.0.4-py3-none-any.whl.metadata (558 bytes)\n",
      "Downloading gymnasium-1.0.0-py3-none-any.whl (958 kB)\n",
      "\u001b[2K   \u001b[90m━━━━━━━━━━━━━━━━━━━━━━━━━━━━━━━━━━━━━━━━\u001b[0m \u001b[32m958.1/958.1 kB\u001b[0m \u001b[31m14.1 MB/s\u001b[0m eta \u001b[36m0:00:00\u001b[0m\n",
      "\u001b[?25hDownloading Farama_Notifications-0.0.4-py3-none-any.whl (2.5 kB)\n",
      "Installing collected packages: farama-notifications, gymnasium\n",
      "Successfully installed farama-notifications-0.0.4 gymnasium-1.0.0\n",
      "Collecting ale_py\n",
      "  Downloading ale_py-0.10.1-cp310-cp310-manylinux_2_17_x86_64.manylinux2014_x86_64.whl.metadata (7.6 kB)\n",
      "Requirement already satisfied: numpy>1.20 in /usr/local/lib/python3.10/dist-packages (from ale_py) (1.26.4)\n",
      "Requirement already satisfied: typing-extensions in /usr/local/lib/python3.10/dist-packages (from ale_py) (4.12.2)\n",
      "Downloading ale_py-0.10.1-cp310-cp310-manylinux_2_17_x86_64.manylinux2014_x86_64.whl (2.1 MB)\n",
      "\u001b[2K   \u001b[90m━━━━━━━━━━━━━━━━━━━━━━━━━━━━━━━━━━━━━━━━\u001b[0m \u001b[32m2.1/2.1 MB\u001b[0m \u001b[31m23.2 MB/s\u001b[0m eta \u001b[36m0:00:00\u001b[0m\n",
      "\u001b[?25hInstalling collected packages: ale_py\n",
      "Successfully installed ale_py-0.10.1\n",
      "Collecting stable-baselines3[extra]\n",
      "  Downloading stable_baselines3-2.4.0-py3-none-any.whl.metadata (4.5 kB)\n",
      "Requirement already satisfied: gymnasium<1.1.0,>=0.29.1 in /usr/local/lib/python3.10/dist-packages (from stable-baselines3[extra]) (1.0.0)\n",
      "Requirement already satisfied: numpy<2.0,>=1.20 in /usr/local/lib/python3.10/dist-packages (from stable-baselines3[extra]) (1.26.4)\n",
      "Requirement already satisfied: torch>=1.13 in /usr/local/lib/python3.10/dist-packages (from stable-baselines3[extra]) (2.5.1+cu121)\n",
      "Requirement already satisfied: cloudpickle in /usr/local/lib/python3.10/dist-packages (from stable-baselines3[extra]) (3.1.0)\n",
      "Requirement already satisfied: pandas in /usr/local/lib/python3.10/dist-packages (from stable-baselines3[extra]) (2.2.2)\n",
      "Requirement already satisfied: matplotlib in /usr/local/lib/python3.10/dist-packages (from stable-baselines3[extra]) (3.8.0)\n",
      "Requirement already satisfied: opencv-python in /usr/local/lib/python3.10/dist-packages (from stable-baselines3[extra]) (4.10.0.84)\n",
      "Requirement already satisfied: pygame in /usr/local/lib/python3.10/dist-packages (from stable-baselines3[extra]) (2.6.1)\n",
      "Requirement already satisfied: tensorboard>=2.9.1 in /usr/local/lib/python3.10/dist-packages (from stable-baselines3[extra]) (2.17.1)\n",
      "Requirement already satisfied: psutil in /usr/local/lib/python3.10/dist-packages (from stable-baselines3[extra]) (5.9.5)\n",
      "Requirement already satisfied: tqdm in /usr/local/lib/python3.10/dist-packages (from stable-baselines3[extra]) (4.66.6)\n",
      "Requirement already satisfied: rich in /usr/local/lib/python3.10/dist-packages (from stable-baselines3[extra]) (13.9.4)\n",
      "Requirement already satisfied: ale-py>=0.9.0 in /usr/local/lib/python3.10/dist-packages (from stable-baselines3[extra]) (0.10.1)\n",
      "Requirement already satisfied: pillow in /usr/local/lib/python3.10/dist-packages (from stable-baselines3[extra]) (11.0.0)\n",
      "Requirement already satisfied: typing-extensions in /usr/local/lib/python3.10/dist-packages (from ale-py>=0.9.0->stable-baselines3[extra]) (4.12.2)\n",
      "Requirement already satisfied: farama-notifications>=0.0.1 in /usr/local/lib/python3.10/dist-packages (from gymnasium<1.1.0,>=0.29.1->stable-baselines3[extra]) (0.0.4)\n",
      "Requirement already satisfied: absl-py>=0.4 in /usr/local/lib/python3.10/dist-packages (from tensorboard>=2.9.1->stable-baselines3[extra]) (1.4.0)\n",
      "Requirement already satisfied: grpcio>=1.48.2 in /usr/local/lib/python3.10/dist-packages (from tensorboard>=2.9.1->stable-baselines3[extra]) (1.68.0)\n",
      "Requirement already satisfied: markdown>=2.6.8 in /usr/local/lib/python3.10/dist-packages (from tensorboard>=2.9.1->stable-baselines3[extra]) (3.7)\n",
      "Requirement already satisfied: packaging in /usr/local/lib/python3.10/dist-packages (from tensorboard>=2.9.1->stable-baselines3[extra]) (24.2)\n",
      "Requirement already satisfied: protobuf!=4.24.0,>=3.19.6 in /usr/local/lib/python3.10/dist-packages (from tensorboard>=2.9.1->stable-baselines3[extra]) (4.25.5)\n",
      "Requirement already satisfied: setuptools>=41.0.0 in /usr/local/lib/python3.10/dist-packages (from tensorboard>=2.9.1->stable-baselines3[extra]) (75.1.0)\n",
      "Requirement already satisfied: six>1.9 in /usr/local/lib/python3.10/dist-packages (from tensorboard>=2.9.1->stable-baselines3[extra]) (1.16.0)\n",
      "Requirement already satisfied: tensorboard-data-server<0.8.0,>=0.7.0 in /usr/local/lib/python3.10/dist-packages (from tensorboard>=2.9.1->stable-baselines3[extra]) (0.7.2)\n",
      "Requirement already satisfied: werkzeug>=1.0.1 in /usr/local/lib/python3.10/dist-packages (from tensorboard>=2.9.1->stable-baselines3[extra]) (3.1.3)\n",
      "Requirement already satisfied: filelock in /usr/local/lib/python3.10/dist-packages (from torch>=1.13->stable-baselines3[extra]) (3.16.1)\n",
      "Requirement already satisfied: networkx in /usr/local/lib/python3.10/dist-packages (from torch>=1.13->stable-baselines3[extra]) (3.4.2)\n",
      "Requirement already satisfied: jinja2 in /usr/local/lib/python3.10/dist-packages (from torch>=1.13->stable-baselines3[extra]) (3.1.4)\n",
      "Requirement already satisfied: fsspec in /usr/local/lib/python3.10/dist-packages (from torch>=1.13->stable-baselines3[extra]) (2024.10.0)\n",
      "Requirement already satisfied: sympy==1.13.1 in /usr/local/lib/python3.10/dist-packages (from torch>=1.13->stable-baselines3[extra]) (1.13.1)\n",
      "Requirement already satisfied: mpmath<1.4,>=1.1.0 in /usr/local/lib/python3.10/dist-packages (from sympy==1.13.1->torch>=1.13->stable-baselines3[extra]) (1.3.0)\n",
      "Requirement already satisfied: contourpy>=1.0.1 in /usr/local/lib/python3.10/dist-packages (from matplotlib->stable-baselines3[extra]) (1.3.1)\n",
      "Requirement already satisfied: cycler>=0.10 in /usr/local/lib/python3.10/dist-packages (from matplotlib->stable-baselines3[extra]) (0.12.1)\n",
      "Requirement already satisfied: fonttools>=4.22.0 in /usr/local/lib/python3.10/dist-packages (from matplotlib->stable-baselines3[extra]) (4.55.0)\n",
      "Requirement already satisfied: kiwisolver>=1.0.1 in /usr/local/lib/python3.10/dist-packages (from matplotlib->stable-baselines3[extra]) (1.4.7)\n",
      "Requirement already satisfied: pyparsing>=2.3.1 in /usr/local/lib/python3.10/dist-packages (from matplotlib->stable-baselines3[extra]) (3.2.0)\n",
      "Requirement already satisfied: python-dateutil>=2.7 in /usr/local/lib/python3.10/dist-packages (from matplotlib->stable-baselines3[extra]) (2.8.2)\n",
      "Requirement already satisfied: pytz>=2020.1 in /usr/local/lib/python3.10/dist-packages (from pandas->stable-baselines3[extra]) (2024.2)\n",
      "Requirement already satisfied: tzdata>=2022.7 in /usr/local/lib/python3.10/dist-packages (from pandas->stable-baselines3[extra]) (2024.2)\n",
      "Requirement already satisfied: markdown-it-py>=2.2.0 in /usr/local/lib/python3.10/dist-packages (from rich->stable-baselines3[extra]) (3.0.0)\n",
      "Requirement already satisfied: pygments<3.0.0,>=2.13.0 in /usr/local/lib/python3.10/dist-packages (from rich->stable-baselines3[extra]) (2.18.0)\n",
      "Requirement already satisfied: mdurl~=0.1 in /usr/local/lib/python3.10/dist-packages (from markdown-it-py>=2.2.0->rich->stable-baselines3[extra]) (0.1.2)\n",
      "Requirement already satisfied: MarkupSafe>=2.1.1 in /usr/local/lib/python3.10/dist-packages (from werkzeug>=1.0.1->tensorboard>=2.9.1->stable-baselines3[extra]) (3.0.2)\n",
      "Downloading stable_baselines3-2.4.0-py3-none-any.whl (183 kB)\n",
      "\u001b[2K   \u001b[90m━━━━━━━━━━━━━━━━━━━━━━━━━━━━━━━━━━━━━━━━\u001b[0m \u001b[32m183.9/183.9 kB\u001b[0m \u001b[31m4.3 MB/s\u001b[0m eta \u001b[36m0:00:00\u001b[0m\n",
      "\u001b[?25hInstalling collected packages: stable-baselines3\n",
      "Successfully installed stable-baselines3-2.4.0\n"
     ]
    }
   ],
   "source": [
    "# # imports\n",
    "# !pip install stable-baselines3 pyglet imageio-ffmpeg gymnasium[atari,accept-rom-license] ale-py > /dev/null 2>&1\n",
    "!pip install gymnasium==1.0.0\n",
    "!pip install ale_py\n",
    "!pip install stable-baselines3[extra]\n",
    "# pip install sb3-contrib"
   ]
  },
  {
   "cell_type": "code",
   "execution_count": 2,
   "metadata": {
    "executionInfo": {
     "elapsed": 31,
     "status": "ok",
     "timestamp": 1733279350126,
     "user": {
      "displayName": "Amrit cheema",
      "userId": "09351746591115935562"
     },
     "user_tz": -60
    },
    "id": "Nv2c8G-fJni_"
   },
   "outputs": [],
   "source": [
    "import warnings\n",
    "warnings.filterwarnings('ignore')"
   ]
  },
  {
   "cell_type": "code",
   "execution_count": 3,
   "metadata": {
    "executionInfo": {
     "elapsed": 252,
     "status": "ok",
     "timestamp": 1733279350348,
     "user": {
      "displayName": "Amrit cheema",
      "userId": "09351746591115935562"
     },
     "user_tz": -60
    },
    "id": "vvF3dyK5JnjA"
   },
   "outputs": [],
   "source": [
    "import ale_py"
   ]
  },
  {
   "cell_type": "code",
   "execution_count": 4,
   "metadata": {
    "executionInfo": {
     "elapsed": 14856,
     "status": "ok",
     "timestamp": 1733279365196,
     "user": {
      "displayName": "Amrit cheema",
      "userId": "09351746591115935562"
     },
     "user_tz": -60
    },
    "id": "p--B9ZV5JnjA"
   },
   "outputs": [],
   "source": [
    "import gymnasium as gym\n",
    "from stable_baselines3 import DQN\n",
    "from stable_baselines3.common.vec_env import DummyVecEnv, VecFrameStack, VecTransposeImage\n",
    "from stable_baselines3.common.atari_wrappers import MaxAndSkipEnv\n",
    "import torch\n",
    "import numpy as np\n",
    "import wandb\n",
    "from wandb.integration.sb3 import WandbCallback\n",
    "\n",
    "from gymnasium.wrappers import MaxAndSkipObservation, ResizeObservation, GrayscaleObservation, FrameStackObservation, ReshapeObservation"
   ]
  },
  {
   "cell_type": "code",
   "execution_count": 5,
   "metadata": {
    "colab": {
     "base_uri": "https://localhost:8080/"
    },
    "executionInfo": {
     "elapsed": 27,
     "status": "ok",
     "timestamp": 1733279365196,
     "user": {
      "displayName": "Amrit cheema",
      "userId": "09351746591115935562"
     },
     "user_tz": -60
    },
    "id": "GOiINwN2f1aQ",
    "outputId": "8bfe846d-efaa-4cd7-8933-99a323884c98"
   },
   "outputs": [
    {
     "name": "stderr",
     "output_type": "stream",
     "text": [
      "/usr/local/lib/python3.10/dist-packages/ipykernel/ipkernel.py:283: DeprecationWarning: `should_run_async` will not call `transform_cell` automatically in the future. Please pass the result to `transformed_cell` argument and any exception that happen during thetransform in `preprocessing_exc_tuple` in IPython 7.17 and above.\n",
      "  and should_run_async(code)\n"
     ]
    }
   ],
   "source": [
    "from stable_baselines3.common.monitor import Monitor"
   ]
  },
  {
   "cell_type": "code",
   "execution_count": 6,
   "metadata": {
    "executionInfo": {
     "elapsed": 25,
     "status": "ok",
     "timestamp": 1733279365196,
     "user": {
      "displayName": "Amrit cheema",
      "userId": "09351746591115935562"
     },
     "user_tz": -60
    },
    "id": "Uujp09wlJnjB"
   },
   "outputs": [],
   "source": [
    "import matplotlib.pyplot as plt"
   ]
  },
  {
   "cell_type": "code",
   "execution_count": 7,
   "metadata": {
    "executionInfo": {
     "elapsed": 24,
     "status": "ok",
     "timestamp": 1733279365196,
     "user": {
      "displayName": "Amrit cheema",
      "userId": "09351746591115935562"
     },
     "user_tz": -60
    },
    "id": "wu-A96lcJnjB"
   },
   "outputs": [],
   "source": [
    "import os"
   ]
  },
  {
   "cell_type": "code",
   "execution_count": 8,
   "metadata": {
    "executionInfo": {
     "elapsed": 25,
     "status": "ok",
     "timestamp": 1733279365197,
     "user": {
      "displayName": "Amrit cheema",
      "userId": "09351746591115935562"
     },
     "user_tz": -60
    },
    "id": "WJUt4ja8JnjB"
   },
   "outputs": [],
   "source": [
    "from stable_baselines3 import DQN\n",
    "from stable_baselines3.common.callbacks import CheckpointCallback"
   ]
  },
  {
   "cell_type": "code",
   "execution_count": 9,
   "metadata": {
    "executionInfo": {
     "elapsed": 25,
     "status": "ok",
     "timestamp": 1733279365197,
     "user": {
      "displayName": "Amrit cheema",
      "userId": "09351746591115935562"
     },
     "user_tz": -60
    },
    "id": "3qpLc3uJJnjB"
   },
   "outputs": [],
   "source": [
    "gym.register_envs(ale_py)"
   ]
  },
  {
   "cell_type": "code",
   "execution_count": 10,
   "metadata": {
    "executionInfo": {
     "elapsed": 25,
     "status": "ok",
     "timestamp": 1733279365197,
     "user": {
      "displayName": "Amrit cheema",
      "userId": "09351746591115935562"
     },
     "user_tz": -60
    },
    "id": "pfzpW-NAJnjB"
   },
   "outputs": [],
   "source": [
    "# from sb3_contrib import QRDQN"
   ]
  },
  {
   "cell_type": "code",
   "execution_count": 20,
   "metadata": {
    "executionInfo": {
     "elapsed": 24,
     "status": "ok",
     "timestamp": 1733279365197,
     "user": {
      "displayName": "Amrit cheema",
      "userId": "09351746591115935562"
     },
     "user_tz": -60
    },
    "id": "S4uVRdT9f1aS"
   },
   "outputs": [],
   "source": [
    "from datetime import datetime\n",
    "from stable_baselines3 import A2C\n",
    "from stable_baselines3.ppo.policies import MlpPolicy\n",
    "from wandb.integration.sb3 import WandbCallback"
   ]
  },
  {
   "cell_type": "code",
   "execution_count": 19,
   "metadata": {
    "colab": {
     "base_uri": "https://localhost:8080/",
     "height": 263
    },
    "executionInfo": {
     "elapsed": 93864,
     "status": "ok",
     "timestamp": 1733279459037,
     "user": {
      "displayName": "Amrit cheema",
      "userId": "09351746591115935562"
     },
     "user_tz": -60
    },
    "id": "eC5vil4-JnjC",
    "outputId": "e2df6e06-f979-4805-ae0f-a618913367c3"
   },
   "outputs": [
    {
     "name": "stderr",
     "output_type": "stream",
     "text": [
      "\u001b[34m\u001b[1mwandb\u001b[0m: Using wandb-core as the SDK backend. Please refer to https://wandb.me/wandb-core for more information.\n",
      "\u001b[34m\u001b[1mwandb\u001b[0m: Currently logged in as: \u001b[33mamrit0081\u001b[0m (\u001b[33meducation_ai\u001b[0m). Use \u001b[1m`wandb login --relogin`\u001b[0m to force relogin\n"
     ]
    },
    {
     "data": {
      "text/html": [
       "Tracking run with wandb version 0.18.5"
      ],
      "text/plain": [
       "<IPython.core.display.HTML object>"
      ]
     },
     "metadata": {},
     "output_type": "display_data"
    },
    {
     "data": {
      "text/html": [
       "Run data is saved locally in <code>g:\\La meva unitat\\School\\school\\Uni\\3r\\5e semestre\\Paradigmes d'Aprenentatge Automatic\\project\\Code\\Reinfrocement-Learning-Project\\wandb\\run-20241204_034055-3x9v28d4</code>"
      ],
      "text/plain": [
       "<IPython.core.display.HTML object>"
      ]
     },
     "metadata": {},
     "output_type": "display_data"
    },
    {
     "data": {
      "text/html": [
       "Syncing run <strong><a href='https://wandb.ai/education_ai/Project_1/runs/3x9v28d4' target=\"_blank\">polished-star-2</a></strong> to <a href='https://wandb.ai/education_ai/Project_1' target=\"_blank\">Weights & Biases</a> (<a href='https://wandb.me/run' target=\"_blank\">docs</a>)<br/>"
      ],
      "text/plain": [
       "<IPython.core.display.HTML object>"
      ]
     },
     "metadata": {},
     "output_type": "display_data"
    },
    {
     "data": {
      "text/html": [
       " View project at <a href='https://wandb.ai/education_ai/Project_1' target=\"_blank\">https://wandb.ai/education_ai/Project_1</a>"
      ],
      "text/plain": [
       "<IPython.core.display.HTML object>"
      ]
     },
     "metadata": {},
     "output_type": "display_data"
    },
    {
     "data": {
      "text/html": [
       " View run at <a href='https://wandb.ai/education_ai/Project_1/runs/3x9v28d4' target=\"_blank\">https://wandb.ai/education_ai/Project_1/runs/3x9v28d4</a>"
      ],
      "text/plain": [
       "<IPython.core.display.HTML object>"
      ]
     },
     "metadata": {},
     "output_type": "display_data"
    }
   ],
   "source": [
    "# ENV_NAME = 'ALE/MarioBros-v5'\n",
    "\n",
    "# configuration file\n",
    "config = {\n",
    "    \"policy_type\": \"CnnPolicy\",\n",
    "    \"total_timesteps\": 100000,\n",
    "    \"env_name\": \"ALE/MarioBros-v5\",\n",
    "    \"model_name\": \"A2C_MarioBros\",\n",
    "    \"export_path\": \"./exports/\",\n",
    "    \"videos_path\": \"./videos/\",\n",
    "}\n",
    "\n"
   ]
  },
  {
   "cell_type": "code",
   "execution_count": null,
   "metadata": {},
   "outputs": [],
   "source": [
    "# Wandb setup\n",
    "run = wandb.init(\n",
    "    project=\"Project_1\",\n",
    "    config=config,\n",
    "    sync_tensorboard=True,  # auto-upload sb3's tensorboard metrics\n",
    "    save_code=True,  # optional\n",
    ")"
   ]
  },
  {
   "cell_type": "code",
   "execution_count": 21,
   "metadata": {
    "colab": {
     "base_uri": "https://localhost:8080/"
    },
    "executionInfo": {
     "elapsed": 1056,
     "status": "ok",
     "timestamp": 1733279460089,
     "user": {
      "displayName": "Amrit cheema",
      "userId": "09351746591115935562"
     },
     "user_tz": -60
    },
    "id": "sPknvIhmJnjC",
    "outputId": "5677f57f-e601-4118-b6a1-5be020f4a864"
   },
   "outputs": [
    {
     "name": "stdout",
     "output_type": "stream",
     "text": [
      "Standard Env.        : (210, 160, 3)\n",
      "FireResetEnv          : (210, 160, 3)\n",
      "ResizeObservation    : (84, 84, 3)\n",
      "GrayscaleObservation : (84, 84, 1)\n",
      "ScaledFloatFrame     : (84, 84, 1)\n",
      "Monitor               : (84, 84, 1)\n",
      "Post VecFrameStack Shape: (84, 84, 4)\n",
      "Final Observation Space: (4, 84, 84)\n"
     ]
    }
   ],
   "source": [
    "\n",
    "class ScaledFloatFrame(gym.ObservationWrapper):\n",
    "    def observation(self, obs):\n",
    "        return np.array(obs).astype(np.float32) / 255.0\n",
    "\n",
    "class FireResetEnv(gym.Wrapper):\n",
    "    def __init__(self, env=None):\n",
    "        super().__init__(env)\n",
    "        # Check that 'FIRE' is a valid action in the environment\n",
    "        assert 'FIRE' in env.unwrapped.get_action_meanings(), \"Environment does not support 'FIRE' action\"\n",
    "        assert len(env.unwrapped.get_action_meanings()) >= 3, \"Action space too small for expected actions\"\n",
    "\n",
    "    def step(self, action):\n",
    "        return self.env.step(action)\n",
    "\n",
    "    def reset(self, **kwargs):\n",
    "        # Reset the environment\n",
    "        obs, info = self.env.reset(**kwargs)\n",
    "\n",
    "        # Perform the FIRE action\n",
    "        obs, _, terminated, truncated, _ = self.env.step(1)\n",
    "        if terminated or truncated:  # If game ends after FIRE, reset again\n",
    "            obs, info = self.env.reset(**kwargs)\n",
    "\n",
    "        return obs, info\n",
    "\n",
    "\n",
    "def make_env(env_name, render_mode=None):\n",
    "    def _init():\n",
    "        env = gym.make(env_name, render_mode=render_mode)\n",
    "        print(\"Standard Env.        : {}\".format(env.observation_space.shape))\n",
    "        env = FireResetEnv(env)\n",
    "        print(\"FireResetEnv          : {}\".format(env.observation_space.shape))\n",
    "        env = ResizeObservation(env, (84, 84))\n",
    "        print(\"ResizeObservation    : {}\".format(env.observation_space.shape))\n",
    "        env = GrayscaleObservation(env, keep_dim=True)\n",
    "        print(\"GrayscaleObservation : {}\".format(env.observation_space.shape))\n",
    "        env = ScaledFloatFrame(env)\n",
    "        print(\"ScaledFloatFrame     : {}\".format(env.observation_space.shape))\n",
    "        env = Monitor(env, allow_early_resets=False) # from stable baselines\n",
    "        print(\"Monitor               : {}\".format(env.observation_space.shape))\n",
    "\n",
    "        return env\n",
    "    return _init\n",
    "\n",
    "\n",
    "\n",
    "env = DummyVecEnv([make_env(config[\"env_name\"])])\n",
    "# stack 4 frames\n",
    "env = VecFrameStack(env, n_stack=4)\n",
    "print(\"Post VecFrameStack Shape: {}\".format(env.observation_space.shape))\n",
    "\n",
    "# convert back to PyTorch format (channel-first)\n",
    "env = VecTransposeImage(env)\n",
    "print(\"Final Observation Space: {}\".format(env.observation_space.shape))"
   ]
  },
  {
   "cell_type": "code",
   "execution_count": 14,
   "metadata": {
    "colab": {
     "base_uri": "https://localhost:8080/"
    },
    "executionInfo": {
     "elapsed": 457500,
     "status": "ok",
     "timestamp": 1733279917586,
     "user": {
      "displayName": "Amrit cheema",
      "userId": "09351746591115935562"
     },
     "user_tz": -60
    },
    "id": "6YPvHbZ1f1aS",
    "outputId": "3cdc119d-61e9-45be-b6ef-7b3d1c1c3546"
   },
   "outputs": [
    {
     "name": "stdout",
     "output_type": "stream",
     "text": [
      ">>> Training time (hh:mm:ss.ms): 0:07:32.679631\n"
     ]
    }
   ],
   "source": [
    "# define\n",
    "model = A2C(config[\"policy_type\"], env, verbose=0, tensorboard_log=f\"runs/{run.id}\")\n",
    "\n",
    "# train\n",
    "t0 = datetime.now()\n",
    "model.learn(total_timesteps=config[\"total_timesteps\"], callback=WandbCallback(verbose=2))\n",
    "t1 = datetime.now()\n",
    "print('>>> Training time (hh:mm:ss.ms): {}'.format(t1-t0))\n",
    "\n",
    "# save and export model\n",
    "model.save(config[\"export_path\"] + config[\"model_name\"])\n"
   ]
  },
  {
   "cell_type": "code",
   "execution_count": 17,
   "metadata": {
    "colab": {
     "base_uri": "https://localhost:8080/",
     "height": 373
    },
    "executionInfo": {
     "elapsed": 1079,
     "status": "error",
     "timestamp": 1733279979414,
     "user": {
      "displayName": "Amrit cheema",
      "userId": "09351746591115935562"
     },
     "user_tz": -60
    },
    "id": "ndQTMdz_f1aS",
    "outputId": "ae04ea51-ae8c-45bc-d017-dd653ec6e2d3"
   },
   "outputs": [
    {
     "ename": "ValueError",
     "evalue": "The environment is of type <class 'function'>, not a Gymnasium environment. In this case, we expect OpenAI Gym to be installed and the environment to be an OpenAI Gym environment.",
     "output_type": "error",
     "traceback": [
      "\u001b[0;31m---------------------------------------------------------------------------\u001b[0m",
      "\u001b[0;31mValueError\u001b[0m                                Traceback (most recent call last)",
      "\u001b[0;32m<ipython-input-17-463274ed4b39>\u001b[0m in \u001b[0;36m<cell line: 7>\u001b[0;34m()\u001b[0m\n\u001b[1;32m      5\u001b[0m \u001b[0;34m\u001b[0m\u001b[0m\n\u001b[1;32m      6\u001b[0m \u001b[0;31m# evaluate the agent\u001b[0m\u001b[0;34m\u001b[0m\u001b[0;34m\u001b[0m\u001b[0m\n\u001b[0;32m----> 7\u001b[0;31m \u001b[0mmean_reward\u001b[0m\u001b[0;34m,\u001b[0m \u001b[0mstd_reward\u001b[0m \u001b[0;34m=\u001b[0m \u001b[0mevaluate_policy\u001b[0m\u001b[0;34m(\u001b[0m\u001b[0mmodel\u001b[0m\u001b[0;34m,\u001b[0m \u001b[0menv\u001b[0m\u001b[0;34m,\u001b[0m \u001b[0mn_eval_episodes\u001b[0m\u001b[0;34m=\u001b[0m\u001b[0;36m100\u001b[0m\u001b[0;34m)\u001b[0m\u001b[0;34m\u001b[0m\u001b[0;34m\u001b[0m\u001b[0m\n\u001b[0m\u001b[1;32m      8\u001b[0m \u001b[0;34m\u001b[0m\u001b[0m\n\u001b[1;32m      9\u001b[0m \u001b[0mprint\u001b[0m\u001b[0;34m(\u001b[0m\u001b[0;34m\"Reward (mean +- std): {} +- {}\"\u001b[0m\u001b[0;34m.\u001b[0m\u001b[0mformat\u001b[0m\u001b[0;34m(\u001b[0m\u001b[0mmean_reward\u001b[0m\u001b[0;34m,\u001b[0m \u001b[0mstd_reward\u001b[0m\u001b[0;34m)\u001b[0m\u001b[0;34m)\u001b[0m\u001b[0;34m\u001b[0m\u001b[0;34m\u001b[0m\u001b[0m\n",
      "\u001b[0;32m/usr/local/lib/python3.10/dist-packages/stable_baselines3/common/evaluation.py\u001b[0m in \u001b[0;36mevaluate_policy\u001b[0;34m(model, env, n_eval_episodes, deterministic, render, callback, reward_threshold, return_episode_rewards, warn)\u001b[0m\n\u001b[1;32m     60\u001b[0m \u001b[0;34m\u001b[0m\u001b[0m\n\u001b[1;32m     61\u001b[0m     \u001b[0;32mif\u001b[0m \u001b[0;32mnot\u001b[0m \u001b[0misinstance\u001b[0m\u001b[0;34m(\u001b[0m\u001b[0menv\u001b[0m\u001b[0;34m,\u001b[0m \u001b[0mVecEnv\u001b[0m\u001b[0;34m)\u001b[0m\u001b[0;34m:\u001b[0m\u001b[0;34m\u001b[0m\u001b[0;34m\u001b[0m\u001b[0m\n\u001b[0;32m---> 62\u001b[0;31m         \u001b[0menv\u001b[0m \u001b[0;34m=\u001b[0m \u001b[0mDummyVecEnv\u001b[0m\u001b[0;34m(\u001b[0m\u001b[0;34m[\u001b[0m\u001b[0;32mlambda\u001b[0m\u001b[0;34m:\u001b[0m \u001b[0menv\u001b[0m\u001b[0;34m]\u001b[0m\u001b[0;34m)\u001b[0m  \u001b[0;31m# type: ignore[list-item, return-value]\u001b[0m\u001b[0;34m\u001b[0m\u001b[0;34m\u001b[0m\u001b[0m\n\u001b[0m\u001b[1;32m     63\u001b[0m \u001b[0;34m\u001b[0m\u001b[0m\n\u001b[1;32m     64\u001b[0m     \u001b[0mis_monitor_wrapped\u001b[0m \u001b[0;34m=\u001b[0m \u001b[0mis_vecenv_wrapped\u001b[0m\u001b[0;34m(\u001b[0m\u001b[0menv\u001b[0m\u001b[0;34m,\u001b[0m \u001b[0mVecMonitor\u001b[0m\u001b[0;34m)\u001b[0m \u001b[0;32mor\u001b[0m \u001b[0menv\u001b[0m\u001b[0;34m.\u001b[0m\u001b[0menv_is_wrapped\u001b[0m\u001b[0;34m(\u001b[0m\u001b[0mMonitor\u001b[0m\u001b[0;34m)\u001b[0m\u001b[0;34m[\u001b[0m\u001b[0;36m0\u001b[0m\u001b[0;34m]\u001b[0m\u001b[0;34m\u001b[0m\u001b[0;34m\u001b[0m\u001b[0m\n",
      "\u001b[0;32m/usr/local/lib/python3.10/dist-packages/stable_baselines3/common/vec_env/dummy_vec_env.py\u001b[0m in \u001b[0;36m__init__\u001b[0;34m(self, env_fns)\u001b[0m\n\u001b[1;32m     28\u001b[0m \u001b[0;34m\u001b[0m\u001b[0m\n\u001b[1;32m     29\u001b[0m     \u001b[0;32mdef\u001b[0m \u001b[0m__init__\u001b[0m\u001b[0;34m(\u001b[0m\u001b[0mself\u001b[0m\u001b[0;34m,\u001b[0m \u001b[0menv_fns\u001b[0m\u001b[0;34m:\u001b[0m \u001b[0mList\u001b[0m\u001b[0;34m[\u001b[0m\u001b[0mCallable\u001b[0m\u001b[0;34m[\u001b[0m\u001b[0;34m[\u001b[0m\u001b[0;34m]\u001b[0m\u001b[0;34m,\u001b[0m \u001b[0mgym\u001b[0m\u001b[0;34m.\u001b[0m\u001b[0mEnv\u001b[0m\u001b[0;34m]\u001b[0m\u001b[0;34m]\u001b[0m\u001b[0;34m)\u001b[0m\u001b[0;34m:\u001b[0m\u001b[0;34m\u001b[0m\u001b[0;34m\u001b[0m\u001b[0m\n\u001b[0;32m---> 30\u001b[0;31m         \u001b[0mself\u001b[0m\u001b[0;34m.\u001b[0m\u001b[0menvs\u001b[0m \u001b[0;34m=\u001b[0m \u001b[0;34m[\u001b[0m\u001b[0m_patch_env\u001b[0m\u001b[0;34m(\u001b[0m\u001b[0mfn\u001b[0m\u001b[0;34m(\u001b[0m\u001b[0;34m)\u001b[0m\u001b[0;34m)\u001b[0m \u001b[0;32mfor\u001b[0m \u001b[0mfn\u001b[0m \u001b[0;32min\u001b[0m \u001b[0menv_fns\u001b[0m\u001b[0;34m]\u001b[0m\u001b[0;34m\u001b[0m\u001b[0;34m\u001b[0m\u001b[0m\n\u001b[0m\u001b[1;32m     31\u001b[0m         \u001b[0;32mif\u001b[0m \u001b[0mlen\u001b[0m\u001b[0;34m(\u001b[0m\u001b[0mset\u001b[0m\u001b[0;34m(\u001b[0m\u001b[0;34m[\u001b[0m\u001b[0mid\u001b[0m\u001b[0;34m(\u001b[0m\u001b[0menv\u001b[0m\u001b[0;34m.\u001b[0m\u001b[0munwrapped\u001b[0m\u001b[0;34m)\u001b[0m \u001b[0;32mfor\u001b[0m \u001b[0menv\u001b[0m \u001b[0;32min\u001b[0m \u001b[0mself\u001b[0m\u001b[0;34m.\u001b[0m\u001b[0menvs\u001b[0m\u001b[0;34m]\u001b[0m\u001b[0;34m)\u001b[0m\u001b[0;34m)\u001b[0m \u001b[0;34m!=\u001b[0m \u001b[0mlen\u001b[0m\u001b[0;34m(\u001b[0m\u001b[0mself\u001b[0m\u001b[0;34m.\u001b[0m\u001b[0menvs\u001b[0m\u001b[0;34m)\u001b[0m\u001b[0;34m:\u001b[0m\u001b[0;34m\u001b[0m\u001b[0;34m\u001b[0m\u001b[0m\n\u001b[1;32m     32\u001b[0m             raise ValueError(\n",
      "\u001b[0;32m/usr/local/lib/python3.10/dist-packages/stable_baselines3/common/vec_env/dummy_vec_env.py\u001b[0m in \u001b[0;36m<listcomp>\u001b[0;34m(.0)\u001b[0m\n\u001b[1;32m     28\u001b[0m \u001b[0;34m\u001b[0m\u001b[0m\n\u001b[1;32m     29\u001b[0m     \u001b[0;32mdef\u001b[0m \u001b[0m__init__\u001b[0m\u001b[0;34m(\u001b[0m\u001b[0mself\u001b[0m\u001b[0;34m,\u001b[0m \u001b[0menv_fns\u001b[0m\u001b[0;34m:\u001b[0m \u001b[0mList\u001b[0m\u001b[0;34m[\u001b[0m\u001b[0mCallable\u001b[0m\u001b[0;34m[\u001b[0m\u001b[0;34m[\u001b[0m\u001b[0;34m]\u001b[0m\u001b[0;34m,\u001b[0m \u001b[0mgym\u001b[0m\u001b[0;34m.\u001b[0m\u001b[0mEnv\u001b[0m\u001b[0;34m]\u001b[0m\u001b[0;34m]\u001b[0m\u001b[0;34m)\u001b[0m\u001b[0;34m:\u001b[0m\u001b[0;34m\u001b[0m\u001b[0;34m\u001b[0m\u001b[0m\n\u001b[0;32m---> 30\u001b[0;31m         \u001b[0mself\u001b[0m\u001b[0;34m.\u001b[0m\u001b[0menvs\u001b[0m \u001b[0;34m=\u001b[0m \u001b[0;34m[\u001b[0m\u001b[0m_patch_env\u001b[0m\u001b[0;34m(\u001b[0m\u001b[0mfn\u001b[0m\u001b[0;34m(\u001b[0m\u001b[0;34m)\u001b[0m\u001b[0;34m)\u001b[0m \u001b[0;32mfor\u001b[0m \u001b[0mfn\u001b[0m \u001b[0;32min\u001b[0m \u001b[0menv_fns\u001b[0m\u001b[0;34m]\u001b[0m\u001b[0;34m\u001b[0m\u001b[0;34m\u001b[0m\u001b[0m\n\u001b[0m\u001b[1;32m     31\u001b[0m         \u001b[0;32mif\u001b[0m \u001b[0mlen\u001b[0m\u001b[0;34m(\u001b[0m\u001b[0mset\u001b[0m\u001b[0;34m(\u001b[0m\u001b[0;34m[\u001b[0m\u001b[0mid\u001b[0m\u001b[0;34m(\u001b[0m\u001b[0menv\u001b[0m\u001b[0;34m.\u001b[0m\u001b[0munwrapped\u001b[0m\u001b[0;34m)\u001b[0m \u001b[0;32mfor\u001b[0m \u001b[0menv\u001b[0m \u001b[0;32min\u001b[0m \u001b[0mself\u001b[0m\u001b[0;34m.\u001b[0m\u001b[0menvs\u001b[0m\u001b[0;34m]\u001b[0m\u001b[0;34m)\u001b[0m\u001b[0;34m)\u001b[0m \u001b[0;34m!=\u001b[0m \u001b[0mlen\u001b[0m\u001b[0;34m(\u001b[0m\u001b[0mself\u001b[0m\u001b[0;34m.\u001b[0m\u001b[0menvs\u001b[0m\u001b[0;34m)\u001b[0m\u001b[0;34m:\u001b[0m\u001b[0;34m\u001b[0m\u001b[0;34m\u001b[0m\u001b[0m\n\u001b[1;32m     32\u001b[0m             raise ValueError(\n",
      "\u001b[0;32m/usr/local/lib/python3.10/dist-packages/stable_baselines3/common/vec_env/patch_gym.py\u001b[0m in \u001b[0;36m_patch_env\u001b[0;34m(env)\u001b[0m\n\u001b[1;32m     31\u001b[0m \u001b[0;34m\u001b[0m\u001b[0m\n\u001b[1;32m     32\u001b[0m     \u001b[0;32mif\u001b[0m \u001b[0;32mnot\u001b[0m \u001b[0mgym_installed\u001b[0m \u001b[0;32mor\u001b[0m \u001b[0;32mnot\u001b[0m \u001b[0misinstance\u001b[0m\u001b[0;34m(\u001b[0m\u001b[0menv\u001b[0m\u001b[0;34m,\u001b[0m \u001b[0mgym\u001b[0m\u001b[0;34m.\u001b[0m\u001b[0mEnv\u001b[0m\u001b[0;34m)\u001b[0m\u001b[0;34m:\u001b[0m\u001b[0;34m\u001b[0m\u001b[0;34m\u001b[0m\u001b[0m\n\u001b[0;32m---> 33\u001b[0;31m         raise ValueError(\n\u001b[0m\u001b[1;32m     34\u001b[0m             \u001b[0;34mf\"The environment is of type {type(env)}, not a Gymnasium \"\u001b[0m\u001b[0;34m\u001b[0m\u001b[0;34m\u001b[0m\u001b[0m\n\u001b[1;32m     35\u001b[0m             \u001b[0;34mf\"environment. In this case, we expect OpenAI Gym to be \"\u001b[0m\u001b[0;34m\u001b[0m\u001b[0;34m\u001b[0m\u001b[0m\n",
      "\u001b[0;31mValueError\u001b[0m: The environment is of type <class 'function'>, not a Gymnasium environment. In this case, we expect OpenAI Gym to be installed and the environment to be an OpenAI Gym environment."
     ]
    }
   ],
   "source": [
    "from stable_baselines3.common.evaluation import evaluate_policy\n",
    "\n",
    "# env DummyVecEnv([make_env(config[\"env_name\"])])\n",
    "env = make_env(config[\"env_name\"])\n",
    "\n",
    "# evaluate the agent\n",
    "mean_reward, std_reward = evaluate_policy(model, env, n_eval_episodes=100)\n",
    "\n",
    "print(\"Reward (mean +- std): {} +- {}\".format(mean_reward, std_reward))"
   ]
  },
  {
   "cell_type": "code",
   "execution_count": null,
   "metadata": {
    "executionInfo": {
     "elapsed": 59,
     "status": "aborted",
     "timestamp": 1733279918413,
     "user": {
      "displayName": "Amrit cheema",
      "userId": "09351746591115935562"
     },
     "user_tz": -60
    },
    "id": "5bs9XWl2JnjD"
   },
   "outputs": [],
   "source": [
    "# # Create output directory for saving models\n",
    "# output_dir = \"./dqn_mariobros/\"\n",
    "# os.makedirs(output_dir, exist_ok=True)\n",
    "\n",
    "# # Define a checkpoint callback to save models during training\n",
    "# checkpoint_callback = CheckpointCallback(save_freq=10000, save_path=output_dir, name_prefix=\"dqn_mariobros\")\n",
    "\n",
    "# # Initialize the DQN model\n",
    "# model = DQN(\n",
    "#     \"CnnPolicy\",            # Convolutional policy for image input\n",
    "#     env,                    # Custom preprocessed environment\n",
    "#     learning_rate=1e-4,     # Learning rate\n",
    "#     buffer_size=100000,     # Replay buffer size\n",
    "#     learning_starts=10000,  # Steps before training starts\n",
    "#     batch_size=32,          # Batch size for training\n",
    "#     gamma=0.99,             # Discount factor\n",
    "#     target_update_interval=500,  # Target network update frequency\n",
    "#     train_freq=4,           # Training frequency (in steps)\n",
    "#     verbose=1,              # Verbosity level\n",
    "#     tensorboard_log=\"./dqn_tensorboard/\"  # TensorBoard log directory\n",
    "# )\n",
    "\n",
    "# # Train the DQN agent\n",
    "# model.learn(total_timesteps=500000, callback=checkpoint_callback)\n",
    "\n",
    "# # Save the final model\n",
    "# model.save(os.path.join(output_dir, \"dqn_mariobros_final\"))\n",
    "\n",
    "# # Test the trained model\n",
    "# obs = env.reset()\n",
    "# for _ in range(1000):\n",
    "#     action, _ = model.predict(obs, deterministic=True)\n",
    "#     obs, reward, done, info = env.step(action)\n",
    "#     env.render()  # Render the environment\n",
    "#     if done:\n",
    "#         obs = env.reset()\n",
    "\n",
    "# env.close()"
   ]
  },
  {
   "cell_type": "code",
   "execution_count": null,
   "metadata": {
    "executionInfo": {
     "elapsed": 59,
     "status": "aborted",
     "timestamp": 1733279918414,
     "user": {
      "displayName": "Amrit cheema",
      "userId": "09351746591115935562"
     },
     "user_tz": -60
    },
    "id": "DweTGEY4JnjD"
   },
   "outputs": [],
   "source": [
    "print(aaaa)"
   ]
  },
  {
   "cell_type": "code",
   "execution_count": null,
   "metadata": {
    "executionInfo": {
     "elapsed": 60,
     "status": "aborted",
     "timestamp": 1733279918415,
     "user": {
      "displayName": "Amrit cheema",
      "userId": "09351746591115935562"
     },
     "user_tz": -60
    },
    "id": "SLT8XW4EJnjD"
   },
   "outputs": [],
   "source": []
  },
  {
   "cell_type": "markdown",
   "metadata": {
    "id": "4dWVEpxDf1aT"
   },
   "source": [
    "Testing"
   ]
  },
  {
   "cell_type": "code",
   "execution_count": 24,
   "metadata": {
    "executionInfo": {
     "elapsed": 59,
     "status": "aborted",
     "timestamp": 1733279918415,
     "user": {
      "displayName": "Amrit cheema",
      "userId": "09351746591115935562"
     },
     "user_tz": -60
    },
    "id": "tpSN7nKvf1aU"
   },
   "outputs": [
    {
     "name": "stdout",
     "output_type": "stream",
     "text": [
      "Standard Env.        : (210, 160, 3)\n",
      "FireResetEnv          : (210, 160, 3)\n",
      "ResizeObservation    : (84, 84, 3)\n",
      "GrayscaleObservation : (84, 84, 1)\n",
      "ScaledFloatFrame     : (84, 84, 1)\n",
      "Monitor               : (84, 84, 1)\n",
      "Post VecFrameStack Shape: (84, 84, 4)\n",
      "Final Observation Space: (4, 84, 84)\n",
      "Render mode after wrapping: rgb_array\n"
     ]
    }
   ],
   "source": [
    "env = DummyVecEnv([make_env(config[\"env_name\"], render_mode=\"rgb_array\")])\n",
    "# stack 4 frames\n",
    "env = VecFrameStack(env, n_stack=4)\n",
    "print(\"Post VecFrameStack Shape: {}\".format(env.observation_space.shape))\n",
    "\n",
    "# convert back to PyTorch format (channel-first)\n",
    "env = VecTransposeImage(env)\n",
    "print(\"Final Observation Space: {}\".format(env.observation_space.shape))\n",
    "\n",
    "print(\"Render mode after wrapping:\", env.render_mode)"
   ]
  },
  {
   "cell_type": "code",
   "execution_count": 25,
   "metadata": {
    "executionInfo": {
     "elapsed": 60,
     "status": "aborted",
     "timestamp": 1733279918416,
     "user": {
      "displayName": "Amrit cheema",
      "userId": "09351746591115935562"
     },
     "user_tz": -60
    },
    "id": "RV1g_NjWf1aU"
   },
   "outputs": [],
   "source": [
    "# load model\n",
    "model = A2C.load(\"A2C_MarioBros\")\n"
   ]
  },
  {
   "cell_type": "code",
   "execution_count": null,
   "metadata": {
    "executionInfo": {
     "elapsed": 59,
     "status": "aborted",
     "timestamp": 1733279918416,
     "user": {
      "displayName": "Amrit cheema",
      "userId": "09351746591115935562"
     },
     "user_tz": -60
    },
    "id": "swgqYffMf1aU"
   },
   "outputs": [],
   "source": [
    "import imageio\n",
    "from PIL import Image\n",
    "import PIL.ImageDraw as ImageDraw\n",
    "\n",
    "rewards_glb = []\n",
    "num_episodes = 1\n",
    "\n",
    "for i in range(num_episodes):\n",
    "    frames = []\n",
    "    rewards_episode = []\n",
    "    done = False\n",
    "    obs = env.reset()\n",
    "\n",
    "    while not done:\n",
    "        action, _ = model.predict(obs)\n",
    "        obs, reward, done, info = env.step(action)\n",
    "        # done = terminated or truncated\n",
    "        rewards_episode.append(reward)\n",
    "\n",
    "        frames.append(env.render())\n",
    "\n",
    "    rewards_glb.append(sum(rewards_episode))\n",
    "    # e.g. fps=50 == duration=20 (1000 * 1/50)\n",
    "    imageio.mimwrite(\"model_name\" +'_'+ str(i) +'.gif', frames, duration=20)\n",
    "\n",
    "print(\"Rewards:\", rewards_glb)\n",
    "\n"
   ]
  },
  {
   "cell_type": "markdown",
   "metadata": {
    "id": "tuxR58WGf1aU"
   },
   "source": [
    "End TESTING"
   ]
  },
  {
   "cell_type": "code",
   "execution_count": null,
   "metadata": {
    "executionInfo": {
     "elapsed": 59,
     "status": "aborted",
     "timestamp": 1733279918416,
     "user": {
      "displayName": "Amrit cheema",
      "userId": "09351746591115935562"
     },
     "user_tz": -60
    },
    "id": "Gp5m4Onrf1aU"
   },
   "outputs": [],
   "source": []
  },
  {
   "cell_type": "code",
   "execution_count": null,
   "metadata": {
    "executionInfo": {
     "elapsed": 58,
     "status": "aborted",
     "timestamp": 1733279918417,
     "user": {
      "displayName": "Amrit cheema",
      "userId": "09351746591115935562"
     },
     "user_tz": -60
    },
    "id": "8boBc11qf1aU"
   },
   "outputs": [],
   "source": []
  },
  {
   "cell_type": "code",
   "execution_count": null,
   "metadata": {
    "executionInfo": {
     "elapsed": 57,
     "status": "aborted",
     "timestamp": 1733279918417,
     "user": {
      "displayName": "Amrit cheema",
      "userId": "09351746591115935562"
     },
     "user_tz": -60
    },
    "id": "bmJgLuO9JnjD"
   },
   "outputs": [],
   "source": []
  },
  {
   "cell_type": "code",
   "execution_count": null,
   "metadata": {
    "executionInfo": {
     "elapsed": 57,
     "status": "aborted",
     "timestamp": 1733279918417,
     "user": {
      "displayName": "Amrit cheema",
      "userId": "09351746591115935562"
     },
     "user_tz": -60
    },
    "id": "j2xBMofdJnjD"
   },
   "outputs": [],
   "source": []
  },
  {
   "cell_type": "code",
   "execution_count": null,
   "metadata": {
    "executionInfo": {
     "elapsed": 56,
     "status": "aborted",
     "timestamp": 1733279918417,
     "user": {
      "displayName": "Amrit cheema",
      "userId": "09351746591115935562"
     },
     "user_tz": -60
    },
    "id": "2p8qFb1BJnjD"
   },
   "outputs": [],
   "source": []
  },
  {
   "cell_type": "code",
   "execution_count": null,
   "metadata": {
    "executionInfo": {
     "elapsed": 55,
     "status": "aborted",
     "timestamp": 1733279918417,
     "user": {
      "displayName": "Amrit cheema",
      "userId": "09351746591115935562"
     },
     "user_tz": -60
    },
    "id": "s3qQZSWlJnjD"
   },
   "outputs": [],
   "source": []
  },
  {
   "cell_type": "code",
   "execution_count": null,
   "metadata": {
    "executionInfo": {
     "elapsed": 55,
     "status": "aborted",
     "timestamp": 1733279918417,
     "user": {
      "displayName": "Amrit cheema",
      "userId": "09351746591115935562"
     },
     "user_tz": -60
    },
    "id": "UVU0eQcAJnjE"
   },
   "outputs": [],
   "source": [
    "# # Play a few steps and inspect the observations\n",
    "# obs = env.reset()  # Reset the environment\n",
    "# print(\"Initial Observation Shape:\", obs.shape)\n",
    "# print(\"Non-Zero Values in Initial Observation:\", np.count_nonzero(obs))\n",
    "\n",
    "# # Take 10 random steps\n",
    "# for step in range(10):\n",
    "#     action = [env.action_space.sample()]\n",
    "#     obs, reward, done, info = env.step(action)\n",
    "#     print(f\"Step {step+1}:\")\n",
    "#     print(\"  Observation Shape:\", obs.shape)\n",
    "#     print(\"  Non-Zero Values:\", np.count_nonzero(obs))\n",
    "\n",
    "# # Check if everything is correctly handled\n",
    "# obs[0]  # Display one observation after the steps"
   ]
  },
  {
   "cell_type": "code",
   "execution_count": null,
   "metadata": {
    "executionInfo": {
     "elapsed": 55,
     "status": "aborted",
     "timestamp": 1733279918418,
     "user": {
      "displayName": "Amrit cheema",
      "userId": "09351746591115935562"
     },
     "user_tz": -60
    },
    "id": "2ksY7dlLJnjE"
   },
   "outputs": [],
   "source": [
    "env.observation_space.shape"
   ]
  },
  {
   "cell_type": "code",
   "execution_count": null,
   "metadata": {
    "executionInfo": {
     "elapsed": 55,
     "status": "aborted",
     "timestamp": 1733279918418,
     "user": {
      "displayName": "Amrit cheema",
      "userId": "09351746591115935562"
     },
     "user_tz": -60
    },
    "id": "wu4tdUgWJnjE"
   },
   "outputs": [],
   "source": [
    "env.action_space"
   ]
  },
  {
   "cell_type": "code",
   "execution_count": null,
   "metadata": {
    "executionInfo": {
     "elapsed": 55,
     "status": "aborted",
     "timestamp": 1733279918418,
     "user": {
      "displayName": "Amrit cheema",
      "userId": "09351746591115935562"
     },
     "user_tz": -60
    },
    "id": "rk7ioX41JnjE"
   },
   "outputs": [],
   "source": [
    "# # play 1 step\n",
    "# obs = env.reset()\n",
    "# print(obs.shape)\n",
    "\n",
    "# # select random action\n",
    "# action = env.action_space.sample()\n",
    "# # play the action\n",
    "# obs, reward, q, info = env.step([3])\n",
    "# print(obs.shape)\n",
    "# obs = obs.squeeze()\n",
    "# print(obs.shape)\n",
    "# print(obs.min(), obs.max())\n",
    "# # count total\n",
    "# print(np.count_nonzero(obs))\n",
    "# obs"
   ]
  },
  {
   "cell_type": "code",
   "execution_count": null,
   "metadata": {
    "executionInfo": {
     "elapsed": 55,
     "status": "aborted",
     "timestamp": 1733279918418,
     "user": {
      "displayName": "Amrit cheema",
      "userId": "09351746591115935562"
     },
     "user_tz": -60
    },
    "id": "IsAiCH33JnjE"
   },
   "outputs": [],
   "source": []
  },
  {
   "cell_type": "code",
   "execution_count": null,
   "metadata": {
    "executionInfo": {
     "elapsed": 54,
     "status": "aborted",
     "timestamp": 1733279918418,
     "user": {
      "displayName": "Amrit cheema",
      "userId": "09351746591115935562"
     },
     "user_tz": -60
    },
    "id": "iXD5a0HcJnjE"
   },
   "outputs": [],
   "source": []
  },
  {
   "cell_type": "code",
   "execution_count": null,
   "metadata": {
    "executionInfo": {
     "elapsed": 54,
     "status": "aborted",
     "timestamp": 1733279918418,
     "user": {
      "displayName": "Amrit cheema",
      "userId": "09351746591115935562"
     },
     "user_tz": -60
    },
    "id": "NzM81A_DJnjE"
   },
   "outputs": [],
   "source": []
  },
  {
   "cell_type": "code",
   "execution_count": null,
   "metadata": {
    "executionInfo": {
     "elapsed": 55,
     "status": "aborted",
     "timestamp": 1733279918419,
     "user": {
      "displayName": "Amrit cheema",
      "userId": "09351746591115935562"
     },
     "user_tz": -60
    },
    "id": "i_RJysGWJnjE"
   },
   "outputs": [],
   "source": []
  },
  {
   "cell_type": "code",
   "execution_count": null,
   "metadata": {
    "executionInfo": {
     "elapsed": 55,
     "status": "aborted",
     "timestamp": 1733279918419,
     "user": {
      "displayName": "Amrit cheema",
      "userId": "09351746591115935562"
     },
     "user_tz": -60
    },
    "id": "tEL8h1AHJnjE"
   },
   "outputs": [],
   "source": []
  },
  {
   "cell_type": "code",
   "execution_count": null,
   "metadata": {
    "executionInfo": {
     "elapsed": 55,
     "status": "aborted",
     "timestamp": 1733279918419,
     "user": {
      "displayName": "Amrit cheema",
      "userId": "09351746591115935562"
     },
     "user_tz": -60
    },
    "id": "QZ75b-_uJnjE"
   },
   "outputs": [],
   "source": []
  },
  {
   "cell_type": "code",
   "execution_count": null,
   "metadata": {
    "executionInfo": {
     "elapsed": 54,
     "status": "aborted",
     "timestamp": 1733279918419,
     "user": {
      "displayName": "Amrit cheema",
      "userId": "09351746591115935562"
     },
     "user_tz": -60
    },
    "id": "Vo8SU7GfJnjE"
   },
   "outputs": [],
   "source": [
    "# class FireResetEnv(gym.Wrapper):\n",
    "#     def __init__(self, env=None):\n",
    "#         super(FireResetEnv, self).__init__(env)\n",
    "#         assert env.unwrapped.get_action_meanings()[1] == 'FIRE'\n",
    "#         assert len(env.unwrapped.get_action_meanings()) >= 3\n",
    "\n",
    "#     def step(self, action):\n",
    "#         return self.env.step(action)\n",
    "\n",
    "#     def reset(self):\n",
    "#         self.env.reset()\n",
    "#         obs, _, terminated, truncated, _ = self.env.step(1)\n",
    "#         done = terminated or truncated\n",
    "#         if done:\n",
    "#             self.env.reset()\n",
    "#         return obs"
   ]
  },
  {
   "cell_type": "code",
   "execution_count": null,
   "metadata": {
    "executionInfo": {
     "elapsed": 54,
     "status": "aborted",
     "timestamp": 1733279918419,
     "user": {
      "displayName": "Amrit cheema",
      "userId": "09351746591115935562"
     },
     "user_tz": -60
    },
    "id": "_70JPD4AJnjE"
   },
   "outputs": [],
   "source": [
    "# import gymnasium as gym\n",
    "# import ale_py\n",
    "# from gymnasium.wrappers import MaxAndSkipObservation, ResizeObservation, GrayscaleObservation, FrameStackObservation, ReshapeObservation\n",
    "\n",
    "# import numpy as np\n",
    "\n",
    "# import torch\n",
    "# import torch.nn as nn\n",
    "# import torch.optim as optim\n",
    "# from torchsummary import summary\n",
    "\n",
    "# import collections\n",
    "\n",
    "# import wandb\n",
    "# import datetime"
   ]
  },
  {
   "cell_type": "code",
   "execution_count": null,
   "metadata": {
    "executionInfo": {
     "elapsed": 54,
     "status": "aborted",
     "timestamp": 1733279918419,
     "user": {
      "displayName": "Amrit cheema",
      "userId": "09351746591115935562"
     },
     "user_tz": -60
    },
    "id": "DSX0Xpc3JnjF"
   },
   "outputs": [],
   "source": [
    "ENV_NAME = 'ALE/MarioBros-v5'"
   ]
  },
  {
   "cell_type": "code",
   "execution_count": null,
   "metadata": {
    "executionInfo": {
     "elapsed": 55,
     "status": "aborted",
     "timestamp": 1733279918420,
     "user": {
      "displayName": "Amrit cheema",
      "userId": "09351746591115935562"
     },
     "user_tz": -60
    },
    "id": "vDUjvNX9JnjF"
   },
   "outputs": [],
   "source": [
    "class ImageToPyTorch(gym.ObservationWrapper):\n",
    "    def __init__(self, env):\n",
    "        super().__init__(env)\n",
    "        old_shape = self.observation_space.shape\n",
    "        self.observation_space = gym.spaces.Box(low=0.0, high=1.0, shape=(old_shape[-1], old_shape[0], old_shape[1]), dtype=np.float32)\n",
    "\n",
    "    def observation(self, observation):\n",
    "        return np.moveaxis(observation, 2, 0)\n",
    "\n",
    "\n",
    "class ScaledFloatFrame(gym.ObservationWrapper):\n",
    "    def observation(self, obs):\n",
    "        return np.array(obs).astype(np.float32) / 255.0\n",
    "\n",
    "\n",
    "def make_env(env_name):\n",
    "    env = gym.make(env_name, render_mode='rgb_array')\n",
    "    print(\"Standard Env.        : {}\".format(env.observation_space.shape))\n",
    "    env = MaxAndSkipObservation(env, skip=4)\n",
    "    print(\"MaxAndSkipObservation: {}\".format(env.observation_space.shape))\n",
    "    # env = FireResetEnv(env)\n",
    "    # print(\"FireResetEnv         : {}\".format(env.observation_space.shape))\n",
    "    env = ResizeObservation(env, (84, 84))\n",
    "    print(\"ResizeObservation    : {}\".format(env.observation_space.shape))\n",
    "    env = GrayscaleObservation(env, keep_dim=True)\n",
    "    print(\"GrayscaleObservation : {}\".format(env.observation_space.shape))\n",
    "    env = ImageToPyTorch(env)\n",
    "    print(\"ImageToPyTorch       : {}\".format(env.observation_space.shape))\n",
    "    env = ReshapeObservation(env, (84, 84))\n",
    "    print(\"ReshapeObservation   : {}\".format(env.observation_space.shape))\n",
    "    env = FrameStackObservation(env, stack_size=4)\n",
    "    print(\"FrameStackObservation: {}\".format(env.observation_space.shape))\n",
    "    env = ScaledFloatFrame(env)\n",
    "    print(\"ScaledFloatFrame     : {}\".format(env.observation_space.shape))\n",
    "\n",
    "    return env\n",
    "\n",
    "env=make_env(ENV_NAME)"
   ]
  },
  {
   "cell_type": "code",
   "execution_count": null,
   "metadata": {
    "executionInfo": {
     "elapsed": 55,
     "status": "aborted",
     "timestamp": 1733279918420,
     "user": {
      "displayName": "Amrit cheema",
      "userId": "09351746591115935562"
     },
     "user_tz": -60
    },
    "id": "Xy74XSVnJnjF"
   },
   "outputs": [],
   "source": [
    "# play one step of the game\n",
    "obs = env.reset()\n",
    "# select random action\n",
    "action = env.action_space.sample()\n",
    "# play the action\n",
    "obs, reward, t,t, info = env.step(3)\n",
    "obs"
   ]
  },
  {
   "cell_type": "code",
   "execution_count": null,
   "metadata": {
    "executionInfo": {
     "elapsed": 54,
     "status": "aborted",
     "timestamp": 1733279918420,
     "user": {
      "displayName": "Amrit cheema",
      "userId": "09351746591115935562"
     },
     "user_tz": -60
    },
    "id": "9XyzhUK5JnjF"
   },
   "outputs": [],
   "source": [
    "# check different values in obs\n",
    "print(\"Min: \", obs.min())\n",
    "print(\"Max: \", obs.max())"
   ]
  },
  {
   "cell_type": "code",
   "execution_count": null,
   "metadata": {
    "executionInfo": {
     "elapsed": 54,
     "status": "aborted",
     "timestamp": 1733279918420,
     "user": {
      "displayName": "Amrit cheema",
      "userId": "09351746591115935562"
     },
     "user_tz": -60
    },
    "id": "owNOfwNlJnjF"
   },
   "outputs": [],
   "source": [
    "obs.shape"
   ]
  },
  {
   "cell_type": "code",
   "execution_count": null,
   "metadata": {
    "executionInfo": {
     "elapsed": 54,
     "status": "aborted",
     "timestamp": 1733279918420,
     "user": {
      "displayName": "Amrit cheema",
      "userId": "09351746591115935562"
     },
     "user_tz": -60
    },
    "id": "r416QYMPJnjF"
   },
   "outputs": [],
   "source": [
    "# Count the number of values that are not zero\n",
    "non_zero_count = np.count_nonzero(obs)\n",
    "\n",
    "non_zero_count"
   ]
  },
  {
   "cell_type": "code",
   "execution_count": null,
   "metadata": {
    "executionInfo": {
     "elapsed": 54,
     "status": "aborted",
     "timestamp": 1733279918420,
     "user": {
      "displayName": "Amrit cheema",
      "userId": "09351746591115935562"
     },
     "user_tz": -60
    },
    "id": "xmEIZstDJnjF"
   },
   "outputs": [],
   "source": [
    "# select random action\n",
    "action = env.action_space.sample()\n",
    "# play the action\n",
    "obs, reward, t,t, info = env.step(3)\n",
    "obs"
   ]
  },
  {
   "cell_type": "code",
   "execution_count": null,
   "metadata": {
    "executionInfo": {
     "elapsed": 54,
     "status": "aborted",
     "timestamp": 1733279918421,
     "user": {
      "displayName": "Amrit cheema",
      "userId": "09351746591115935562"
     },
     "user_tz": -60
    },
    "id": "qRGIYlosJnjG"
   },
   "outputs": [],
   "source": [
    "# check different values in obs\n",
    "print(\"Min: \", obs.min())\n",
    "print(\"Max: \", obs.max())"
   ]
  },
  {
   "cell_type": "code",
   "execution_count": null,
   "metadata": {
    "executionInfo": {
     "elapsed": 54,
     "status": "aborted",
     "timestamp": 1733279918421,
     "user": {
      "displayName": "Amrit cheema",
      "userId": "09351746591115935562"
     },
     "user_tz": -60
    },
    "id": "K-pVpKUSJnjJ"
   },
   "outputs": [],
   "source": [
    "# Count the number of values that are not zero\n",
    "non_zero_count = np.count_nonzero(obs)\n",
    "\n",
    "non_zero_count"
   ]
  }
 ],
 "metadata": {
  "accelerator": "GPU",
  "colab": {
   "gpuType": "T4",
   "provenance": []
  },
  "kernelspec": {
   "display_name": "python_prova",
   "language": "python",
   "name": "python3"
  },
  "language_info": {
   "codemirror_mode": {
    "name": "ipython",
    "version": 3
   },
   "file_extension": ".py",
   "mimetype": "text/x-python",
   "name": "python",
   "nbconvert_exporter": "python",
   "pygments_lexer": "ipython3",
   "version": "3.8.18"
  }
 },
 "nbformat": 4,
 "nbformat_minor": 0
}
