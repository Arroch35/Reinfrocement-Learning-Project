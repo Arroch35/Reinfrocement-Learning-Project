{
 "cells": [
  {
   "cell_type": "code",
   "execution_count": 1,
   "metadata": {},
   "outputs": [],
   "source": [
    "print()"
   ]
  },
  {
   "cell_type": "code",
   "execution_count": 2,
   "metadata": {},
   "outputs": [],
   "source": [
    "import warnings\n",
    "warnings.filterwarnings('ignore')"
   ]
  },
  {
   "cell_type": "code",
   "execution_count": 3,
   "metadata": {},
   "outputs": [],
   "source": [
    "import ale_py"
   ]
  },
  {
   "cell_type": "code",
   "execution_count": 4,
   "metadata": {},
   "outputs": [],
   "source": [
    "import gymnasium as gym\n",
    "from stable_baselines3 import DQN\n",
    "from stable_baselines3.common.vec_env import DummyVecEnv, VecFrameStack, VecTransposeImage\n",
    "from stable_baselines3.common.atari_wrappers import MaxAndSkipEnv\n",
    "import torch\n",
    "import numpy as np\n",
    "import wandb\n",
    "from wandb.integration.sb3 import WandbCallback\n",
    "\n",
    "from gymnasium.wrappers import MaxAndSkipObservation, ResizeObservation, GrayscaleObservation, FrameStackObservation, ReshapeObservation"
   ]
  },
  {
   "cell_type": "code",
   "execution_count": 5,
   "metadata": {},
   "outputs": [],
   "source": [
    "from stable_baselines3.common.monitor import Monitor"
   ]
  },
  {
   "cell_type": "code",
   "execution_count": 6,
   "metadata": {},
   "outputs": [],
   "source": [
    "import matplotlib.pyplot as plt"
   ]
  },
  {
   "cell_type": "code",
   "execution_count": 7,
   "metadata": {},
   "outputs": [],
   "source": [
    "import os"
   ]
  },
  {
   "cell_type": "code",
   "execution_count": 8,
   "metadata": {},
   "outputs": [],
   "source": [
    "from stable_baselines3 import DQN\n",
    "from stable_baselines3.common.callbacks import CheckpointCallback"
   ]
  },
  {
   "cell_type": "code",
   "execution_count": 9,
   "metadata": {},
   "outputs": [],
   "source": [
    "gym.register_envs(ale_py)"
   ]
  },
  {
   "cell_type": "code",
   "execution_count": 10,
   "metadata": {},
   "outputs": [],
   "source": [
    "from datetime import datetime\n",
    "from stable_baselines3 import A2C\n",
    "from stable_baselines3.ppo.policies import MlpPolicy\n",
    "from wandb.integration.sb3 import WandbCallback"
   ]
  },
  {
   "cell_type": "code",
   "execution_count": 11,
   "metadata": {},
   "outputs": [],
   "source": [
    "# ENV_NAME = 'ALE/MarioBros-v5'\n",
    "\n",
    "# configuration file\n",
    "config = {\n",
    "    \"policy_type\": \"CnnPolicy\",\n",
    "    \"total_timesteps\": 1000000,\n",
    "    \"env_name\": \"ALE/MarioBros-v5\",\n",
    "    \"model_name\": \"A2C_MarioBros\",\n",
    "    \"export_path\": \"./exports/\",\n",
    "    \"videos_path\": \"./videos/\",\n",
    "}"
   ]
  },
  {
   "cell_type": "code",
   "execution_count": 12,
   "metadata": {},
   "outputs": [
    {
     "data": {
      "text/html": [
       "Tracking run with wandb version 0.18.5"
      ],
      "text/plain": [
       "<IPython.core.display.HTML object>"
      ]
     },
     "metadata": {},
     "output_type": "display_data"
    },
    {
     "data": {
      "text/html": [
       "Run data is saved locally in <code>g:\\La meva unitat\\School\\school\\Uni\\3r\\5e semestre\\Paradigmes d'Aprenentatge Automatic\\project\\Code\\Reinfrocement-Learning-Project\\wandb\\run-20241204_234418-eabzxr8d</code>"
      ],
      "text/plain": [
       "<IPython.core.display.HTML object>"
      ]
     },
     "metadata": {},
     "output_type": "display_data"
    },
    {
     "data": {
      "text/html": [
       "Syncing run <strong><a href='https://wandb.ai/education_ai/Project_1/runs/eabzxr8d' target=\"_blank\">chocolate-glade-8</a></strong> to <a href='https://wandb.ai/education_ai/Project_1' target=\"_blank\">Weights & Biases</a> (<a href='https://wandb.me/run' target=\"_blank\">docs</a>)<br/>"
      ],
      "text/plain": [
       "<IPython.core.display.HTML object>"
      ]
     },
     "metadata": {},
     "output_type": "display_data"
    },
    {
     "data": {
      "text/html": [
       " View project at <a href='https://wandb.ai/education_ai/Project_1' target=\"_blank\">https://wandb.ai/education_ai/Project_1</a>"
      ],
      "text/plain": [
       "<IPython.core.display.HTML object>"
      ]
     },
     "metadata": {},
     "output_type": "display_data"
    },
    {
     "data": {
      "text/html": [
       " View run at <a href='https://wandb.ai/education_ai/Project_1/runs/eabzxr8d' target=\"_blank\">https://wandb.ai/education_ai/Project_1/runs/eabzxr8d</a>"
      ],
      "text/plain": [
       "<IPython.core.display.HTML object>"
      ]
     },
     "metadata": {},
     "output_type": "display_data"
    }
   ],
   "source": [
    "# Wandb setup\n",
    "run = wandb.init(\n",
    "    project=\"Project_1\",\n",
    "    config=config,\n",
    "    sync_tensorboard=True,  # auto-upload sb3's tensorboard metrics\n",
    "    save_code=True,  # optional\n",
    ")"
   ]
  },
  {
   "cell_type": "code",
   "execution_count": 13,
   "metadata": {},
   "outputs": [],
   "source": [
    "\n",
    "class ScaledFloatFrame(gym.ObservationWrapper):\n",
    "    def observation(self, obs):\n",
    "        return np.array(obs).astype(np.float32) / 255.0\n",
    "\n",
    "class FireResetEnv(gym.Wrapper):\n",
    "    def __init__(self, env=None):\n",
    "        super().__init__(env)\n",
    "        # Check that 'FIRE' is a valid action in the environment\n",
    "        assert 'FIRE' in env.unwrapped.get_action_meanings(), \"Environment does not support 'FIRE' action\"\n",
    "        assert len(env.unwrapped.get_action_meanings()) >= 3, \"Action space too small for expected actions\"\n",
    "\n",
    "    def step(self, action):\n",
    "        return self.env.step(action)\n",
    "\n",
    "    def reset(self, **kwargs):\n",
    "        # Reset the environment\n",
    "        obs, info = self.env.reset(**kwargs)\n",
    "\n",
    "        # Perform the FIRE action\n",
    "        obs, _, terminated, truncated, _ = self.env.step(1)\n",
    "        if terminated or truncated:  # If game ends after FIRE, reset again\n",
    "            obs, info = self.env.reset(**kwargs)\n",
    "\n",
    "        return obs, info\n",
    "\n",
    "\n",
    "def make_env(env_name, render_mode=None):\n",
    "    def _init():\n",
    "        env = gym.make(env_name, render_mode=render_mode)\n",
    "        print(\"Standard Env.        : {}\".format(env.observation_space.shape))\n",
    "        env = FireResetEnv(env)\n",
    "        print(\"FireResetEnv          : {}\".format(env.observation_space.shape))\n",
    "        env = ResizeObservation(env, (84, 84))\n",
    "        print(\"ResizeObservation    : {}\".format(env.observation_space.shape))\n",
    "        env = GrayscaleObservation(env, keep_dim=True)\n",
    "        print(\"GrayscaleObservation : {}\".format(env.observation_space.shape))\n",
    "        env = ScaledFloatFrame(env)\n",
    "        print(\"ScaledFloatFrame     : {}\".format(env.observation_space.shape))\n",
    "        env = Monitor(env, allow_early_resets=False) # from stable baselines\n",
    "        print(\"Monitor               : {}\".format(env.observation_space.shape))\n",
    "\n",
    "        return env\n",
    "    return _init\n",
    "\n",
    "\n",
    "\n",
    "env = DummyVecEnv([make_env(config[\"env_name\"])])\n",
    "# stack 4 frames\n",
    "env = VecFrameStack(env, n_stack=4)\n",
    "print(\"Post VecFrameStack Shape: {}\".format(env.observation_space.shape))\n",
    "\n",
    "# convert back to PyTorch format (channel-first)\n",
    "env = VecTransposeImage(env)\n",
    "print(\"Final Observation Space: {}\".format(env.observation_space.shape))"
   ]
  },
  {
   "cell_type": "code",
   "execution_count": 14,
   "metadata": {},
   "outputs": [],
   "source": [
    "# define\n",
    "model = A2C(config[\"policy_type\"], env, verbose=0, tensorboard_log=f\"runs/{run.id}\", device=\"cuda\")\n",
    "\n",
    "# train\n",
    "t0 = datetime.now()\n",
    "model.learn(total_timesteps=config[\"total_timesteps\"], callback=WandbCallback(verbose=2))\n",
    "t1 = datetime.now()\n",
    "print('>>> Training time (hh:mm:ss.ms): {}'.format(t1-t0))\n",
    "\n",
    "# save and export model\n",
    "model.save(config[\"export_path\"] + config[\"model_name\"])"
   ]
  },
  {
   "cell_type": "code",
   "execution_count": 15,
   "metadata": {},
   "outputs": [],
   "source": [
    "wandb.finish()"
   ]
  }
 ],
 "metadata": {
  "kernelspec": {
   "display_name": "Python 3",
   "language": "python",
   "name": "python3"
  },
  "language_info": {
   "codemirror_mode": {
    "name": "ipython",
    "version": 3
   },
   "file_extension": ".py",
   "mimetype": "text/x-python",
   "name": "python",
   "nbconvert_exporter": "python",
   "pygments_lexer": "ipython3",
   "version": "3.8.18"
  }
 },
 "nbformat": 4,
 "nbformat_minor": 2
}
